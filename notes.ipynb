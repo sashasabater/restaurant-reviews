{
 "cells": [
  {
   "cell_type": "code",
   "execution_count": 42,
   "metadata": {},
   "outputs": [],
   "source": [
    "import pandas as pd\n",
    "import matplotlib.pyplot as plt\n",
    "import numpy as np \n",
    "import geopandas as gpd\n",
    "from nltk.corpus import stopwords\n",
    "from sklearn.feature_extraction.text import TfidfVectorizer\n",
    "from nltk.stem.wordnet import WordNetLemmatizer\n",
    "%matplotlib inline \n"
   ]
  },
  {
   "cell_type": "code",
   "execution_count": 43,
   "metadata": {},
   "outputs": [],
   "source": [
    "reviews = pd.read_csv('data/yelp.csv', index_col=0)\n",
    "\n"
   ]
  },
  {
   "cell_type": "code",
   "execution_count": 44,
   "metadata": {},
   "outputs": [],
   "source": [
    "#this column is empty \n",
    "reviews.drop('business_neighborhoods', axis=1, inplace=True)"
   ]
  },
  {
   "cell_type": "code",
   "execution_count": 45,
   "metadata": {},
   "outputs": [],
   "source": [
    "#i want to only deal with restaurants \n",
    "reviews = reviews[reviews['business_categories'].str.contains('Restaurant') == True]"
   ]
  },
  {
   "cell_type": "code",
   "execution_count": 5,
   "metadata": {},
   "outputs": [
    {
     "name": "stdout",
     "output_type": "stream",
     "text": [
      "<class 'pandas.core.frame.DataFrame'>\n",
      "Int64Index: 158430 entries, 0 to 229905\n",
      "Data columns (total 30 columns):\n",
      " #   Column                  Non-Null Count   Dtype  \n",
      "---  ------                  --------------   -----  \n",
      " 0   business_blank          158430 non-null  bool   \n",
      " 1   business_categories     158430 non-null  object \n",
      " 2   business_city           158430 non-null  object \n",
      " 3   business_full_address   158430 non-null  object \n",
      " 4   business_id             158430 non-null  object \n",
      " 5   business_latitude       158430 non-null  float64\n",
      " 6   business_longitude      158430 non-null  float64\n",
      " 7   business_name           158430 non-null  object \n",
      " 8   business_open           158430 non-null  bool   \n",
      " 9   business_review_count   158430 non-null  int64  \n",
      " 10  business_stars          158430 non-null  float64\n",
      " 11  business_state          158430 non-null  object \n",
      " 12  business_type           158430 non-null  object \n",
      " 13  cool                    158430 non-null  int64  \n",
      " 14  date                    158430 non-null  object \n",
      " 15  funny                   158430 non-null  int64  \n",
      " 16  review_id               158430 non-null  object \n",
      " 17  reviewer_average_stars  158430 non-null  float64\n",
      " 18  reviewer_blank          158430 non-null  bool   \n",
      " 19  reviewer_cool           158430 non-null  int64  \n",
      " 20  reviewer_funny          158430 non-null  int64  \n",
      " 21  reviewer_name           149319 non-null  object \n",
      " 22  reviewer_review_count   158430 non-null  int64  \n",
      " 23  reviewer_type           158430 non-null  object \n",
      " 24  reviewer_useful         158430 non-null  int64  \n",
      " 25  stars                   158430 non-null  int64  \n",
      " 26  text                    158424 non-null  object \n",
      " 27  type                    158430 non-null  object \n",
      " 28  useful                  158430 non-null  int64  \n",
      " 29  user_id                 158430 non-null  object \n",
      "dtypes: bool(3), float64(4), int64(9), object(14)\n",
      "memory usage: 34.3+ MB\n"
     ]
    }
   ],
   "source": [
    "reviews.info()"
   ]
  },
  {
   "cell_type": "code",
   "execution_count": 46,
   "metadata": {},
   "outputs": [],
   "source": [
    "#there are six entries with no text review, going to drop \n",
    "no_rev = reviews[pd.isna(reviews['text']) == True].index \n",
    "reviews.drop(labels=no_rev, axis=0, inplace=True)"
   ]
  },
  {
   "cell_type": "code",
   "execution_count": 47,
   "metadata": {},
   "outputs": [],
   "source": [
    "reviews = reviews.reset_index().drop('index', axis=1)"
   ]
  },
  {
   "cell_type": "code",
   "execution_count": 48,
   "metadata": {},
   "outputs": [
    {
     "data": {
      "text/plain": [
       "Index(['business_blank', 'business_categories', 'business_city',\n",
       "       'business_full_address', 'business_id', 'business_latitude',\n",
       "       'business_longitude', 'business_name', 'business_open',\n",
       "       'business_review_count', 'business_stars', 'business_state',\n",
       "       'business_type', 'cool', 'date', 'funny', 'review_id',\n",
       "       'reviewer_average_stars', 'reviewer_blank', 'reviewer_cool',\n",
       "       'reviewer_funny', 'reviewer_name', 'reviewer_review_count',\n",
       "       'reviewer_type', 'reviewer_useful', 'stars', 'text', 'type', 'useful',\n",
       "       'user_id'],\n",
       "      dtype='object')"
      ]
     },
     "execution_count": 48,
     "metadata": {},
     "output_type": "execute_result"
    }
   ],
   "source": [
    "reviews.columns"
   ]
  },
  {
   "cell_type": "code",
   "execution_count": 49,
   "metadata": {},
   "outputs": [
    {
     "data": {
      "image/png": "[encoded data removed]",
      "text/plain": [
       "<Figure size 576x432 with 1 Axes>"
      ]
     },
     "metadata": {
      "needs_background": "light"
     },
     "output_type": "display_data"
    }
   ],
   "source": [
    "fig, ax = plt.subplots(figsize=(8, 6))\n",
    "ax.hist(reviews['stars'], align='mid')\n",
    "ax.set_xticks(np.arange(1,6))\n",
    "ax.set_xlabel('star rating')\n",
    "ax.set_ylabel('frequency')\n",
    "ax.set_title('Frequency of Star Ratings')\n",
    "plt.savefig('img/ratings-hist.png')\n"
   ]
  },
  {
   "cell_type": "code",
   "execution_count": 50,
   "metadata": {},
   "outputs": [],
   "source": [
    "lem = WordNetLemmatizer()\n",
    "stopwords = stopwords.words('english')"
   ]
  },
  {
   "cell_type": "code",
   "execution_count": 51,
   "metadata": {},
   "outputs": [],
   "source": [
    "texts = []\n",
    "for rev in reviews['text'].values:\n",
    "    review = [lem.lemmatize(word).lower() for word in rev.split(' ') \\\n",
    "              if word not in stopwords and word.isalpha()==True]\n",
    "    texts.append(\" \".join(review))"
   ]
  },
  {
   "cell_type": "code",
   "execution_count": null,
   "metadata": {},
   "outputs": [],
   "source": [
    "vect = TfidfVectorizer(stop_words='english', max_features=5000)\n",
    "vectorized = vect.fit_transform(texts)\n"
   ]
  },
  {
   "cell_type": "code",
   "execution_count": 71,
   "metadata": {},
   "outputs": [
    {
     "data": {
      "text/plain": [
       "(158424, 65943)"
      ]
     },
     "execution_count": 71,
     "metadata": {},
     "output_type": "execute_result"
    }
   ],
   "source": [
    "vectorized.shape"
   ]
  },
  {
   "cell_type": "code",
   "execution_count": 72,
   "metadata": {},
   "outputs": [],
   "source": [
    "#want to start developing topics:LDA? \n"
   ]
  },
  {
   "cell_type": "code",
   "execution_count": null,
   "metadata": {},
   "outputs": [],
   "source": []
  }
 ],
 "metadata": {
  "interpreter": {
   "hash": "9fdced22d77102b5601c8f6ec647391a5080fbbd8dc561881d6412554a470c13"
  },
  "kernelspec": {
   "display_name": "Python 3",
   "language": "python",
   "name": "python3"
  },
  "language_info": {
   "codemirror_mode": {
    "name": "ipython",
    "version": 3
   },
   "file_extension": ".py",
   "mimetype": "text/x-python",
   "name": "python",
   "nbconvert_exporter": "python",
   "pygments_lexer": "ipython3",
   "version": "3.8.2"
  }
 },
 "nbformat": 4,
 "nbformat_minor": 2
}
