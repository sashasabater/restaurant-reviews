{
 "cells": [
  {
   "cell_type": "code",
   "execution_count": 35,
   "metadata": {},
   "outputs": [],
   "source": [
    "\n",
    "import pandas as pd\n",
    "import matplotlib.pyplot as plt\n",
    "import numpy as np\n",
    "from nltk.corpus import stopwords\n",
    "from sklearn.feature_extraction.text import TfidfVectorizer, CountVectorizer\n",
    "from numpy.linalg import svd as SVD\n",
    "from sklearn.decomposition import LatentDirichletAllocation\n",
    "from sklearn.model_selection import train_test_split\n",
    "from sklearn.linear_model import LogisticRegression\n",
    "from nltk.stem.wordnet import WordNetLemmatizer\n",
    "from sklearn.metrics import mean_squared_error as mse\n",
    "from sklearn.metrics import precision_score, accuracy_score, recall_score \n",
    "from sklearn.ensemble import RandomForestClassifier, GradientBoostingClassifier\n",
    "from sklearn.model_selection import GridSearchCV\n",
    "import pickle\n",
    "%matplotlib inline \n"
   ]
  },
  {
   "cell_type": "code",
   "execution_count": 2,
   "metadata": {},
   "outputs": [],
   "source": [
    "reviews = pd.read_csv('../data/yelp.csv', index_col=0)\n",
    "\n"
   ]
  },
  {
   "cell_type": "code",
   "execution_count": 3,
   "metadata": {},
   "outputs": [],
   "source": [
    "#this column is empty \n",
    "reviews.drop('business_neighborhoods', axis=1, inplace=True)"
   ]
  },
  {
   "cell_type": "code",
   "execution_count": 4,
   "metadata": {},
   "outputs": [],
   "source": [
    "#i want to only deal with restaurants \n",
    "reviews = reviews[reviews['business_categories'].str.contains('Restaurant') == True]"
   ]
  },
  {
   "cell_type": "code",
   "execution_count": 5,
   "metadata": {},
   "outputs": [],
   "source": [
    "# reviews.info()"
   ]
  },
  {
   "cell_type": "code",
   "execution_count": 6,
   "metadata": {},
   "outputs": [],
   "source": [
    "#there are six entries with no text review, going to drop \n",
    "no_rev = reviews[pd.isna(reviews['text']) == True].index \n",
    "reviews.drop(labels=no_rev, axis=0, inplace=True)"
   ]
  },
  {
   "cell_type": "code",
   "execution_count": 7,
   "metadata": {},
   "outputs": [],
   "source": [
    "reviews = reviews.reset_index().drop('index', axis=1)"
   ]
  },
  {
   "cell_type": "code",
   "execution_count": 49,
   "metadata": {},
   "outputs": [
    {
     "data": {
      "image/png": "[encoded data removed]",
      "text/plain": [
       "<Figure size 576x432 with 1 Axes>"
      ]
     },
     "metadata": {
      "needs_background": "light"
     },
     "output_type": "display_data"
    }
   ],
   "source": [
    "fig, ax = plt.subplots(figsize=(8, 6))\n",
    "ax.hist(reviews['stars'], align='mid')\n",
    "ax.set_xticks(np.arange(1,6))\n",
    "ax.set_xlabel('star rating')\n",
    "ax.set_ylabel('frequency')\n",
    "ax.set_title('Frequency of Star Ratings')\n",
    "plt.savefig('img/ratings-hist.png')\n"
   ]
  },
  {
   "cell_type": "code",
   "execution_count": 78,
   "metadata": {},
   "outputs": [],
   "source": [
    "#why don't i model based on the vectorized feature matrix of the text component of reviews\n",
    "#going to begin with a simple baseline (the mean), then move onto a logistic regressor \n",
    "#first going to split the data into training, testing, and holdout \n",
    "# X = vectorized.toarray()\n",
    "# Y = reviews['stars'].values\n",
    "# x, X_holdout, y, y_holdout = train_test_split(X, Y )"
   ]
  },
  {
   "cell_type": "code",
   "execution_count": 7,
   "metadata": {},
   "outputs": [],
   "source": [
    "from text_pipeline import TextPrep"
   ]
  },
  {
   "cell_type": "code",
   "execution_count": 18,
   "metadata": {},
   "outputs": [],
   "source": [
    "# pipeline = TextPrep(reviews)\n",
    "# X = pipeline.vectorize('text')\n",
    "# my imported class keeps throwing an error so going to just manually import function for now "
   ]
  },
  {
   "cell_type": "code",
   "execution_count": 8,
   "metadata": {},
   "outputs": [],
   "source": [
    "def vectorize(df ,column, method='tfidf'):\n",
    "        #takes in name of column to be cleaned, and method to vectorize\n",
    "        lem = WordNetLemmatizer()\n",
    "        #lemmatizing as opposed to stemming \n",
    "        s_words = stopwords.words('english')\n",
    "        texts = []\n",
    "        for doc in df[column].values:\n",
    "            cleaned = [lem.lemmatize(word).lower() for word in doc.split(' ') \\\n",
    "                       if word not in s_words and word.isalpha() == True]\n",
    "            #making sure that every word onl\n",
    "            texts.append(' '.join(cleaned))\n",
    "  \n",
    "        if method == 'tfidf':\n",
    "            vectorizer = TfidfVectorizer(stop_words='english', max_features=5000)\n",
    "            vectorized = vectorizer.fit_transform(texts).toarray()\n",
    "            return vectorized\n",
    "            #creating a feature names attribute(bag of words)\n",
    "        elif method == 'count':\n",
    "            vectorizer = CountVectorizer(stop_words='english', max_features=5000)\n",
    "            vectorized = vectorizer.fit_transform(self.documents).toarray()\n",
    "            return vectorized"
   ]
  },
  {
   "cell_type": "code",
   "execution_count": 9,
   "metadata": {},
   "outputs": [],
   "source": [
    "x = vectorize(reviews, 'text')\n",
    "y = reviews['stars'].values"
   ]
  },
  {
   "cell_type": "code",
   "execution_count": 10,
   "metadata": {},
   "outputs": [],
   "source": [
    "def scores(y_true, y_predict):\n",
    "    precision = precision_score(y_true, y_predict,average='macro')\n",
    "    accuracy = accuracy_score(y_true, y_predict)\n",
    "    recall = recall_score(y_true, y_predict, average='macro')\n",
    "    print(f'Precision : {precision} \\n'  \n",
    "          f'Accuracy : {accuracy} \\n'\n",
    "         f'Recall: {recall}')\n",
    "    return [precision, accuracy, recall]"
   ]
  },
  {
   "cell_type": "code",
   "execution_count": 11,
   "metadata": {},
   "outputs": [
    {
     "name": "stdout",
     "output_type": "stream",
     "text": [
      "Precision : 0.07320229258193203 \n",
      "Accuracy : 0.36601146290966013 \n",
      "Recall: 0.2\n"
     ]
    },
    {
     "name": "stderr",
     "output_type": "stream",
     "text": [
      "/Users/user/opt/anaconda3/lib/python3.8/site-packages/sklearn/metrics/_classification.py:1248: UndefinedMetricWarning: Precision is ill-defined and being set to 0.0 in labels with no predicted samples. Use `zero_division` parameter to control this behavior.\n",
      "  _warn_prf(average, modifier, msg_start, len(result))\n"
     ]
    }
   ],
   "source": [
    "#baseline will be the mode, 4\n",
    "y_mode = np.array([4] * len(y))\n",
    "baseline_ = scores(y, y_mode)"
   ]
  },
  {
   "cell_type": "code",
   "execution_count": 13,
   "metadata": {},
   "outputs": [],
   "source": [
    "#now lets make proper splits \n",
    "X_train, X_holdout, y_train, y_holdout = train_test_split(x, y)\n",
    "X_subtrain, X_subtest, y_subtrain, y_subtest = train_test_split(X_train, y_train)"
   ]
  },
  {
   "cell_type": "code",
   "execution_count": 15,
   "metadata": {},
   "outputs": [
    {
     "name": "stderr",
     "output_type": "stream",
     "text": [
      "/Users/user/opt/anaconda3/lib/python3.8/site-packages/sklearn/linear_model/_logistic.py:763: ConvergenceWarning: lbfgs failed to converge (status=1):\n",
      "STOP: TOTAL NO. of ITERATIONS REACHED LIMIT.\n",
      "\n",
      "Increase the number of iterations (max_iter) or scale the data as shown in:\n",
      "    https://scikit-learn.org/stable/modules/preprocessing.html\n",
      "Please also refer to the documentation for alternative solver options:\n",
      "    https://scikit-learn.org/stable/modules/linear_model.html#logistic-regression\n",
      "  n_iter_i = _check_optimize_result(\n"
     ]
    }
   ],
   "source": [
    "#going to start with simple logistic regression and check the error \n",
    "log_model = LogisticRegression().fit(X_subtrain, y_subtrain)\n",
    "yhat_log = log_model.predict(X_subtest)\n"
   ]
  },
  {
   "cell_type": "code",
   "execution_count": 20,
   "metadata": {},
   "outputs": [
    {
     "name": "stdout",
     "output_type": "stream",
     "text": [
      "Precision : 0.5080392677608373 \n",
      "Accuracy : 0.5206867530718734 \n",
      "Recall: 0.4665495774252085\n"
     ]
    }
   ],
   "source": [
    "scores(y_subtest, yhat_log)\n",
    "#lets pickle the model \n",
    "pickle.dump(log_model, open('log_model.pkl', 'wb'))\n"
   ]
  },
  {
   "cell_type": "code",
   "execution_count": 18,
   "metadata": {},
   "outputs": [
    {
     "name": "stdout",
     "output_type": "stream",
     "text": [
      "Precision : 0.5107873954553696 \n",
      "Accuracy : 0.5298187143362116 \n",
      "Recall: 0.4695066393621798\n"
     ]
    }
   ],
   "source": [
    "final_yhat_log = log_model.predict(X_holdout)\n",
    "log_scores = scores(y_holdout,final_yhat_log)\n",
    "#results for logistic regression "
   ]
  },
  {
   "cell_type": "code",
   "execution_count": 57,
   "metadata": {},
   "outputs": [
    {
     "name": "stdout",
     "output_type": "stream",
     "text": [
      "Precision : 0.46370944265991304 \n",
      "Accuracy : 0.46712674633900014 \n",
      "Recall: 0.3622393236900735\n"
     ]
    },
    {
     "data": {
      "text/plain": [
       "[0.46370944265991304, 0.46712674633900014, 0.3622393236900735]"
      ]
     },
     "execution_count": 57,
     "metadata": {},
     "output_type": "execute_result"
    }
   ],
   "source": [
    "#randomforestnext - out of box first then will gridsearch.\n",
    "rm = RandomForestClassifier(class_weight='balanced').fit(X_subtrain, y_subtrain)\n",
    "rm_hat = rm.predict(X_subtest)\n",
    "scores(y_subtest, rm_hat)"
   ]
  },
  {
   "cell_type": "code",
   "execution_count": 33,
   "metadata": {},
   "outputs": [],
   "source": [
    "#i have alreaedy done a grid search, not shown here due to computational cost\n",
    "rm_final = RandomForestClassifier(class_weight='balanced_subsample', max_samples=.5).fit(X_subtrain, y_subtrain)"
   ]
  },
  {
   "cell_type": "code",
   "execution_count": 34,
   "metadata": {},
   "outputs": [
    {
     "name": "stdout",
     "output_type": "stream",
     "text": [
      "Precision : 0.46872207598811944 \n",
      "Accuracy : 0.468944099378882 \n",
      "Recall: 0.35804206652494236\n"
     ]
    }
   ],
   "source": [
    "rm_final_hat = rm_final.predict(X_holdout)\n",
    "rm_scores = scores(y_holdout, rm_final_hat)"
   ]
  },
  {
   "cell_type": "code",
   "execution_count": null,
   "metadata": {},
   "outputs": [],
   "source": [
    "#lets move on to gradient boosting - after this going to undersample to figure out class imbalance \n",
    "gb = GradientBoostingClassifier().fit(X_subtrain, y_subtrain)"
   ]
  },
  {
   "cell_type": "code",
   "execution_count": null,
   "metadata": {},
   "outputs": [],
   "source": []
  }
 ],
 "metadata": {
  "interpreter": {
   "hash": "9fdced22d77102b5601c8f6ec647391a5080fbbd8dc561881d6412554a470c13"
  },
  "kernelspec": {
   "display_name": "Python 3",
   "language": "python",
   "name": "python3"
  },
  "language_info": {
   "codemirror_mode": {
    "name": "ipython",
    "version": 3
   },
   "file_extension": ".py",
   "mimetype": "text/x-python",
   "name": "python",
   "nbconvert_exporter": "python",
   "pygments_lexer": "ipython3",
   "version": "3.8.2"
  }
 },
 "nbformat": 4,
 "nbformat_minor": 2
}
