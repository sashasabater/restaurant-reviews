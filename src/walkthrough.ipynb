{
 "cells": [
  {
   "cell_type": "code",
   "execution_count": 9,
   "id": "45d115f6",
   "metadata": {},
   "outputs": [],
   "source": [
    "#import functions from helper script \n",
    "from helpers import prepare_df, calc_scores, check_class_balance, downsample, hard\n",
    "\n",
    "#all appropriate imports\n",
    "import pandas as pd\n",
    "import numpy as np\n",
    "import matplotlib.pyplot as plt \n",
    "from sklearn.model_selection import train_test_split\n"
   ]
  },
  {
   "cell_type": "code",
   "execution_count": 6,
   "id": "40ba196e",
   "metadata": {},
   "outputs": [
    {
     "name": "stderr",
     "output_type": "stream",
     "text": [
      "/Users/user/opt/anaconda3/lib/python3.8/site-packages/pandas/core/frame.py:4901: SettingWithCopyWarning: \n",
      "A value is trying to be set on a copy of a slice from a DataFrame\n",
      "\n",
      "See the caveats in the documentation: https://pandas.pydata.org/pandas-docs/stable/user_guide/indexing.html#returning-a-view-versus-a-copy\n",
      "  return super().drop(\n"
     ]
    }
   ],
   "source": [
    "#load in dataframe\n",
    "reviews = pd.read_csv('../data/yelp.csv', index_col=0)\n",
    "#then use the prepare_df function to clean the dataframe and make our three classes (ranked 1-3) \n",
    "reviews = prepare_df(reviews)"
   ]
  },
  {
   "cell_type": "code",
   "execution_count": 13,
   "id": "4b1bd45b",
   "metadata": {},
   "outputs": [
    {
     "data": {
      "text/plain": [
       "{'total': 118818, 1: 19705, 2: 19771, 3: 79342}"
      ]
     },
     "execution_count": 13,
     "metadata": {},
     "output_type": "execute_result"
    }
   ],
   "source": [
    "#next, going to split the entire dataframe into train and holdout\n",
    "df_train, df_holdout = train_test_split(reviews)\n",
    "#lets use the imported check class balance function\n",
    "labels = [1, 2, 3]\n",
    "check_class_balance(df_train, 'stars', labels=labels)\n",
    "#we can see that class3 ('Good') greatly outnumbers the rest "
   ]
  },
  {
   "cell_type": "code",
   "execution_count": 15,
   "id": "38f55b7c",
   "metadata": {},
   "outputs": [
    {
     "data": {
      "text/plain": [
       "{'total': 59115, 1: 19705, 2: 19705, 3: 19705}"
      ]
     },
     "execution_count": 15,
     "metadata": {},
     "output_type": "execute_result"
    }
   ],
   "source": [
    "#going to use the imported downsample function \n",
    "df_train = downsample(df_train, 'stars')\n",
    "#sanity check\n",
    "check_class_balance(df_train, 'stars', labels=labels)"
   ]
  },
  {
   "cell_type": "code",
   "execution_count": null,
   "id": "3b9e5779",
   "metadata": {},
   "outputs": [],
   "source": []
  }
 ],
 "metadata": {
  "kernelspec": {
   "display_name": "Python 3",
   "language": "python",
   "name": "python3"
  },
  "language_info": {
   "codemirror_mode": {
    "name": "ipython",
    "version": 3
   },
   "file_extension": ".py",
   "mimetype": "text/x-python",
   "name": "python",
   "nbconvert_exporter": "python",
   "pygments_lexer": "ipython3",
   "version": "3.8.2"
  }
 },
 "nbformat": 4,
 "nbformat_minor": 5
}
