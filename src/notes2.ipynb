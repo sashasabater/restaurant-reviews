{
 "cells": [
  {
   "cell_type": "code",
   "execution_count": 120,
   "id": "724e90ac",
   "metadata": {},
   "outputs": [],
   "source": [
    "\n",
    "import pandas as pd\n",
    "import matplotlib.pyplot as plt\n",
    "import numpy as np\n",
    "from nltk.corpus import stopwords\n",
    "from sklearn.feature_extraction.text import TfidfVectorizer, CountVectorizer\n",
    "from numpy.linalg import svd as SVD\n",
    "from sklearn.decomposition import LatentDirichletAllocation as LDA \n",
    "from sklearn.model_selection import train_test_split\n",
    "from sklearn.linear_model import LogisticRegression\n",
    "from nltk.stem.wordnet import WordNetLemmatizer\n",
    "from sklearn.metrics import mean_squared_error as mse\n",
    "from sklearn.metrics import precision_score, accuracy_score, recall_score, confusion_matrix\n",
    "from sklearn.ensemble import RandomForestClassifier, GradientBoostingClassifier\n",
    "from sklearn.model_selection import GridSearchCV\n",
    "import pickle\n",
    "%matplotlib inline"
   ]
  },
  {
   "cell_type": "code",
   "execution_count": 18,
   "id": "ae963571",
   "metadata": {},
   "outputs": [],
   "source": [
    "reviews = pd.read_csv('../data/yelp.csv', index_col=0)\n",
    "reviews.drop('business_neighborhoods', axis=1, inplace=True)\n",
    "reviews = reviews[reviews['business_categories'].str.contains('Restaurant') == True]\n",
    "no_rev = reviews[pd.isna(reviews['text']) == True].index \n",
    "reviews.drop(labels=no_rev, axis=0, inplace=True)\n",
    "reviews = reviews.reset_index().drop('index', axis=1)"
   ]
  },
  {
   "cell_type": "code",
   "execution_count": 19,
   "id": "9af730b6",
   "metadata": {},
   "outputs": [],
   "source": [
    "#im going to group 1-2 reatings and 4-5 ratings together\n",
    "reviews['stars'] = reviews['stars'].apply(lambda x: 1 if x <= 2 else x)\n",
    "reviews['stars'] = reviews['stars'].apply(lambda x : 2 if x == 3 else x)\n",
    "reviews['stars'] = reviews['stars'].apply(lambda x: 3 if x >=4 else x)\n",
    "\n",
    "#classification labels: 1 if rating <=2, 2 if rating == 3, 3 if rating >= 4"
   ]
  },
  {
   "cell_type": "code",
   "execution_count": 20,
   "id": "7af5c340",
   "metadata": {},
   "outputs": [
    {
     "data": {
      "text/plain": [
       "0         3\n",
       "1         3\n",
       "2         3\n",
       "3         3\n",
       "4         3\n",
       "         ..\n",
       "158419    1\n",
       "158420    1\n",
       "158421    1\n",
       "158422    3\n",
       "158423    2\n",
       "Name: stars, Length: 158424, dtype: int64"
      ]
     },
     "execution_count": 20,
     "metadata": {},
     "output_type": "execute_result"
    }
   ],
   "source": [
    "reviews['stars']"
   ]
  },
  {
   "cell_type": "code",
   "execution_count": 112,
   "id": "2339ff61",
   "metadata": {},
   "outputs": [],
   "source": [
    "def vectorize(df ,column, method='tfidf'):\n",
    "        #takes in name of column to be cleaned, and method to vectorize\n",
    "        lem = WordNetLemmatizer()\n",
    "        #lemmatizing as opposed to stemming \n",
    "        s_words = stopwords.words('english')\n",
    "        texts = []\n",
    "        for doc in df[column].values:\n",
    "            cleaned = [lem.lemmatize(word).lower() for word in doc.split(' ') \\\n",
    "                       if word not in s_words and word.isalpha() == True]\n",
    "            #making sure that every word onl\n",
    "            texts.append(' '.join(cleaned))\n",
    "  \n",
    "        if method == 'tfidf':\n",
    "            vectorizer = TfidfVectorizer(stop_words='english', max_features=5000)\n",
    "            vectorized = vectorizer.fit_transform(texts).toarray()\n",
    "            return vectorized\n",
    "            #creating a feature names attribute(bag of words)\n",
    "        elif method == 'count':\n",
    "            vectorizer = CountVectorizer(stop_words='english', max_features=5000)\n",
    "            vectorized = vectorizer.fit_transform(texts).toarray()\n",
    "            return vectorized\n",
    "def scores(y_true, y_predict):\n",
    "    precision = precision_score(y_true, y_predict,average='macro')\n",
    "    accuracy = accuracy_score(y_true, y_predict)\n",
    "    recall = recall_score(y_true, y_predict, average='macro')\n",
    "    print(f'Precision : {precision} \\n'  \n",
    "          f'Accuracy : {accuracy} \\n'\n",
    "         f'Recall: {recall}')\n",
    "    return [precision, accuracy, recall]"
   ]
  },
  {
   "cell_type": "code",
   "execution_count": 21,
   "id": "2064ef04",
   "metadata": {},
   "outputs": [
    {
     "data": {
      "text/plain": [
       "(0.0, 4.0)"
      ]
     },
     "execution_count": 21,
     "metadata": {},
     "output_type": "execute_result"
    },
    {
     "data": {
      "image/png": "[encoded data removed]",
      "text/plain": [
       "<Figure size 432x288 with 1 Axes>"
      ]
     },
     "metadata": {
      "needs_background": "light"
     },
     "output_type": "display_data"
    }
   ],
   "source": [
    "fig, ax = plt.subplots()\n",
    "ax.hist(reviews['stars'], )\n",
    "ax.set_xlim(0,4)"
   ]
  },
  {
   "cell_type": "code",
   "execution_count": 30,
   "id": "409a9ffd",
   "metadata": {},
   "outputs": [],
   "source": [
    "total = len(reviews)"
   ]
  },
  {
   "cell_type": "code",
   "execution_count": 27,
   "id": "62122cbf",
   "metadata": {},
   "outputs": [],
   "source": [
    "class_1 = len(reviews[reviews['stars'] == 1])"
   ]
  },
  {
   "cell_type": "code",
   "execution_count": 28,
   "id": "259859df",
   "metadata": {},
   "outputs": [],
   "source": [
    "class_2 = len(reviews[reviews['stars'] == 2])"
   ]
  },
  {
   "cell_type": "code",
   "execution_count": 29,
   "id": "b2d915da",
   "metadata": {},
   "outputs": [],
   "source": [
    "class_3 = len(reviews[reviews['stars'] == 3])"
   ]
  },
  {
   "cell_type": "code",
   "execution_count": 31,
   "id": "d0b02130",
   "metadata": {},
   "outputs": [
    {
     "data": {
      "text/plain": [
       "0.16604176134929052"
      ]
     },
     "execution_count": 31,
     "metadata": {},
     "output_type": "execute_result"
    }
   ],
   "source": [
    "class_1 / total"
   ]
  },
  {
   "cell_type": "code",
   "execution_count": 32,
   "id": "4b8f62df",
   "metadata": {},
   "outputs": [
    {
     "data": {
      "text/plain": [
       "0.6681815886481847"
      ]
     },
     "execution_count": 32,
     "metadata": {},
     "output_type": "execute_result"
    }
   ],
   "source": [
    "class_3 / total\n"
   ]
  },
  {
   "cell_type": "code",
   "execution_count": 33,
   "id": "f8bd2ac3",
   "metadata": {},
   "outputs": [
    {
     "data": {
      "text/plain": [
       "0.16577665000252487"
      ]
     },
     "execution_count": 33,
     "metadata": {},
     "output_type": "execute_result"
    }
   ],
   "source": [
    "class_2 / total"
   ]
  },
  {
   "cell_type": "code",
   "execution_count": 37,
   "id": "df82afe6",
   "metadata": {},
   "outputs": [],
   "source": [
    "pct = class_1 / class_3"
   ]
  },
  {
   "cell_type": "code",
   "execution_count": 39,
   "id": "f80ecc1a",
   "metadata": {},
   "outputs": [],
   "source": [
    "under_sample = pct * class_3\n"
   ]
  },
  {
   "cell_type": "code",
   "execution_count": 75,
   "id": "5737016a",
   "metadata": {},
   "outputs": [
    {
     "data": {
      "text/plain": [
       "(118818, 39606)"
      ]
     },
     "execution_count": 75,
     "metadata": {},
     "output_type": "execute_result"
    }
   ],
   "source": [
    "len(test_x), len(test_X_train)"
   ]
  },
  {
   "cell_type": "code",
   "execution_count": 76,
   "id": "bdc565b8",
   "metadata": {},
   "outputs": [],
   "source": [
    "df_train, df_holdout = train_test_split(reviews)"
   ]
  },
  {
   "cell_type": "code",
   "execution_count": 77,
   "id": "c72d470a",
   "metadata": {},
   "outputs": [
    {
     "data": {
      "text/plain": [
       "(118818, 39606)"
      ]
     },
     "execution_count": 77,
     "metadata": {},
     "output_type": "execute_result"
    }
   ],
   "source": [
    "len(df_train), len(df_holdout)"
   ]
  },
  {
   "cell_type": "code",
   "execution_count": 78,
   "id": "7e39323b",
   "metadata": {},
   "outputs": [
    {
     "data": {
      "text/plain": [
       "(19698, 19678, 79442, 118818)"
      ]
     },
     "execution_count": 78,
     "metadata": {},
     "output_type": "execute_result"
    }
   ],
   "source": [
    "train_total = len(df_train)\n",
    "\n",
    "train_class_a = len(df_train[df_train.stars ==1])\n",
    "train_class_b = len(df_train[df_train.stars == 2])\n",
    "train_class_c = len(df_train[df_train.stars == 3])\n",
    "train_class_a, train_class_b, train_class_c, train_total"
   ]
  },
  {
   "cell_type": "code",
   "execution_count": 79,
   "id": "80273dce",
   "metadata": {},
   "outputs": [],
   "source": [
    "samp_pct = train_class_a / train_class_c\n",
    "samp_num = samp_pct * train_class_c"
   ]
  },
  {
   "cell_type": "code",
   "execution_count": 80,
   "id": "583bdee3",
   "metadata": {},
   "outputs": [
    {
     "data": {
      "text/plain": [
       "19698.0"
      ]
     },
     "execution_count": 80,
     "metadata": {},
     "output_type": "execute_result"
    }
   ],
   "source": [
    "samp_num"
   ]
  },
  {
   "cell_type": "code",
   "execution_count": 59,
   "id": "3f781972",
   "metadata": {},
   "outputs": [
    {
     "data": {
      "text/plain": [
       "19717"
      ]
     },
     "execution_count": 59,
     "metadata": {},
     "output_type": "execute_result"
    }
   ],
   "source": [
    "train_class_a"
   ]
  },
  {
   "cell_type": "code",
   "execution_count": 66,
   "id": "f22c0f45",
   "metadata": {},
   "outputs": [],
   "source": [
    "def downsample(df:pd.DataFrame, label_col_name:str) -> pd.DataFrame:\n",
    "    # find the number of observations in the smallest group\n",
    "    nmin = df[label_col_name].value_counts().min()\n",
    "    return (df\n",
    "            # split the dataframe per group\n",
    "            .groupby(label_col_name)\n",
    "            # sample nmin observations from each group\n",
    "            .apply(lambda x: x.sample(nmin))\n",
    "            # recombine the dataframes\n",
    "            .reset_index(drop=True)\n",
    "            )"
   ]
  },
  {
   "cell_type": "code",
   "execution_count": 82,
   "id": "91e57d39",
   "metadata": {},
   "outputs": [],
   "source": [
    "df_train = downsample(df_train, 'stars')"
   ]
  },
  {
   "cell_type": "code",
   "execution_count": 83,
   "id": "0ebe89ed",
   "metadata": {},
   "outputs": [
    {
     "data": {
      "text/plain": [
       "(19678, 19678, 19678, 59034)"
      ]
     },
     "execution_count": 83,
     "metadata": {},
     "output_type": "execute_result"
    }
   ],
   "source": [
    "#checking to see class balanced\n",
    "train_total = len(df_train)\n",
    "\n",
    "train_class_a = len(df_train[df_train.stars ==1])\n",
    "train_class_b = len(df_train[df_train.stars == 2])\n",
    "train_class_c = len(df_train[df_train.stars == 3])\n",
    "train_class_a, train_class_b, train_class_c, train_total"
   ]
  },
  {
   "cell_type": "code",
   "execution_count": 85,
   "id": "7bee46b0",
   "metadata": {},
   "outputs": [],
   "source": [
    "#now i can split into X and y and vectorize \n",
    "X = vectorize(df_train, 'text')\n",
    "y = df_train['stars'].values"
   ]
  },
  {
   "cell_type": "code",
   "execution_count": 106,
   "id": "d15904f6",
   "metadata": {},
   "outputs": [],
   "source": [
    "X_holdout = vectorize(df_holdout, 'text')\n",
    "y_holdout = df_holdout['stars'].values"
   ]
  },
  {
   "cell_type": "code",
   "execution_count": 93,
   "id": "2e75ec40",
   "metadata": {},
   "outputs": [],
   "source": [
    "X_train, X_test, y_train, y_test = train_test_split(X, y)"
   ]
  },
  {
   "cell_type": "code",
   "execution_count": 87,
   "id": "20f912d8",
   "metadata": {},
   "outputs": [],
   "source": [
    "baseline_y = []\n",
    "for i in range(len(y)):\n",
    "    baseline_y.append(np.random.choice([1, 2, 3]))\n"
   ]
  },
  {
   "cell_type": "code",
   "execution_count": 88,
   "id": "51b9e9c9",
   "metadata": {},
   "outputs": [
    {
     "name": "stdout",
     "output_type": "stream",
     "text": [
      "Precision : 0.33434969678490356 \n",
      "Accuracy : 0.3343496967849036 \n",
      "Recall: 0.33435393846553163\n"
     ]
    }
   ],
   "source": [
    "baseline_scores = scores(baseline_y, y)"
   ]
  },
  {
   "cell_type": "code",
   "execution_count": 94,
   "id": "fa3f3f1c",
   "metadata": {},
   "outputs": [
    {
     "data": {
      "text/plain": [
       "array([[0., 0., 0., ..., 0., 0., 0.],\n",
       "       [0., 0., 0., ..., 0., 0., 0.],\n",
       "       [0., 0., 0., ..., 0., 0., 0.],\n",
       "       ...,\n",
       "       [0., 0., 0., ..., 0., 0., 0.],\n",
       "       [0., 0., 0., ..., 0., 0., 0.],\n",
       "       [0., 0., 0., ..., 0., 0., 0.]])"
      ]
     },
     "execution_count": 94,
     "metadata": {},
     "output_type": "execute_result"
    }
   ],
   "source": [
    "X_test"
   ]
  },
  {
   "cell_type": "code",
   "execution_count": 117,
   "id": "eb5d6c75",
   "metadata": {},
   "outputs": [],
   "source": [
    "log_model = LogisticRegression().fit(X_train, y_train)\n",
    "log_hat = log_model.predict(X_test)\n"
   ]
  },
  {
   "cell_type": "code",
   "execution_count": 118,
   "id": "3650742e",
   "metadata": {},
   "outputs": [
    {
     "name": "stdout",
     "output_type": "stream",
     "text": [
      "Precision : 0.6557526341989429 \n",
      "Accuracy : 0.6581069178128599 \n",
      "Recall: 0.6585519455143973\n"
     ]
    }
   ],
   "source": [
    "log_test_scores = scores(y_test, log_hat)"
   ]
  },
  {
   "cell_type": "code",
   "execution_count": 107,
   "id": "694c4ace",
   "metadata": {},
   "outputs": [
    {
     "name": "stdout",
     "output_type": "stream",
     "text": [
      "Precision : 0.35151617252061773 \n",
      "Accuracy : 0.32467302933898906 \n",
      "Recall: 0.3586035770596762\n"
     ]
    }
   ],
   "source": [
    "final_log_hat = log_model.predict(X_holdout)\n",
    "final_log_scores = scores(y_holdout, final_log_hat)\n"
   ]
  },
  {
   "cell_type": "code",
   "execution_count": 97,
   "id": "d3279e5c",
   "metadata": {},
   "outputs": [],
   "source": [
    "rm_model = RandomForestClassifier(max_samples=.5).fit(X_train, y_train)"
   ]
  },
  {
   "cell_type": "code",
   "execution_count": 141,
   "id": "83c7be44",
   "metadata": {},
   "outputs": [
    {
     "name": "stdout",
     "output_type": "stream",
     "text": [
      "Precision : 0.601446622465564 \n",
      "Accuracy : 0.6052578087946338 \n",
      "Recall: 0.6057401528144193\n"
     ]
    }
   ],
   "source": [
    "rm_hat = rm_model.predict(X_test)\n",
    "rm_test_scores = scores(y_test, rm_hat)"
   ]
  },
  {
   "cell_type": "code",
   "execution_count": 108,
   "id": "f61ed60d",
   "metadata": {},
   "outputs": [
    {
     "name": "stdout",
     "output_type": "stream",
     "text": [
      "Precision : 0.34218273648352054 \n",
      "Accuracy : 0.310660001009948 \n",
      "Recall: 0.3564216268450105\n"
     ]
    }
   ],
   "source": [
    "final_rm_hat = rm_model.predict(X_holdout)\n",
    "final_rm_scores = scores(y_holdout, final_rm_hat)"
   ]
  },
  {
   "cell_type": "code",
   "execution_count": 101,
   "id": "3def659d",
   "metadata": {},
   "outputs": [],
   "source": [
    "gb_model = GradientBoostingClassifier().fit(X_train, y_train)"
   ]
  },
  {
   "cell_type": "code",
   "execution_count": 102,
   "id": "8617b9e6",
   "metadata": {},
   "outputs": [],
   "source": [
    "pickle.dump(gb_model, open('gb_model.pkl', 'wb'))"
   ]
  },
  {
   "cell_type": "code",
   "execution_count": 143,
   "id": "34d7a54c",
   "metadata": {},
   "outputs": [
    {
     "name": "stdout",
     "output_type": "stream",
     "text": [
      "Precision : 0.5978838049919876 \n",
      "Accuracy : 0.5984822819974253 \n",
      "Recall: 0.5987978263997074\n"
     ]
    }
   ],
   "source": [
    "gb_hat = gb_model.predict(X_test)\n",
    "gb_test_scores = scores(y_test, gb_hat)"
   ]
  },
  {
   "cell_type": "code",
   "execution_count": 119,
   "id": "aa1ffef0",
   "metadata": {},
   "outputs": [
    {
     "name": "stdout",
     "output_type": "stream",
     "text": [
      "Precision : 0.3480618214795866 \n",
      "Accuracy : 0.22483967075695602 \n",
      "Recall: 0.34131311897819044\n"
     ]
    }
   ],
   "source": [
    "# final_gb_hat = gb_model.predict(X_holdout)\n",
    "final_gb_scores = scores(y_holdout, final_gb_hat)"
   ]
  },
  {
   "cell_type": "code",
   "execution_count": 139,
   "id": "73d123b6",
   "metadata": {},
   "outputs": [
    {
     "data": {
      "text/plain": [
       "array([3, 2, 2, ..., 2, 1, 1])"
      ]
     },
     "execution_count": 139,
     "metadata": {},
     "output_type": "execute_result"
    }
   ],
   "source": [
    "y_test"
   ]
  },
  {
   "cell_type": "code",
   "execution_count": 121,
   "id": "3c4d67de",
   "metadata": {},
   "outputs": [
    {
     "data": {
      "text/plain": [
       "array([[0.24692458, 0.50321515, 0.24986027],\n",
       "       [0.17147684, 0.38870036, 0.4398228 ],\n",
       "       [0.39423642, 0.43939234, 0.16637124],\n",
       "       ...,\n",
       "       [0.20907071, 0.40593391, 0.38499538],\n",
       "       [0.38824536, 0.42930006, 0.18245458],\n",
       "       [0.34480942, 0.37024293, 0.28494765]])"
      ]
     },
     "execution_count": 121,
     "metadata": {},
     "output_type": "execute_result"
    }
   ],
   "source": [
    "gb_model.predict_proba(X_test)"
   ]
  },
  {
   "cell_type": "code",
   "execution_count": 137,
   "id": "646ef120",
   "metadata": {},
   "outputs": [],
   "source": [
    "def calculate_threshold_values(prob, y):\n",
    "    '''\n",
    "    Build dataframe of the various confusion-matrix ratios by threshold\n",
    "    from a list of predicted probabilities and actual y values\n",
    "    '''\n",
    "    df = pd.DataFrame({'prob': prob, 'y': y})\n",
    "    df.sort_values('prob', inplace=True)\n",
    "    \n",
    "    actual_p = df.y.sum()\n",
    "    actual_n = df.shape[0] - df.y.sum()\n",
    "\n",
    "    df['tn'] = (df.y == 0).cumsum()\n",
    "    df['fn'] = df.y.cumsum()\n",
    "    df['fp'] = actual_n - df.tn\n",
    "    df['tp'] = actual_p - df.fn\n",
    "\n",
    "    df['fpr'] = df.fp/(df.fp + df.tn)\n",
    "    df['tpr'] = df.tp/(df.tp + df.fn)\n",
    "    df['precision'] = df.tp/(df.tp + df.fp)\n",
    "    df = df.reset_index(drop=True)\n",
    "    return df\n",
    "def plot_precision_recall(ax, df):\n",
    "    ax.plot(df.tpr,df.precision, label='precision/recall')\n",
    "    #ax.plot([0,1],[0,1], 'k')\n",
    "    ax.set_xlabel('recall')\n",
    "    ax.set_ylabel('precision')\n",
    "    ax.set_title('Precision/Recall Curve')\n",
    "#     ax.plot([0,1],[df.precision[0],df.precision[0]], 'k', label='random')\n",
    "#     ax.set_xlim(xmin=0,xmax=1)\n",
    "#     ax.set_ylim(ymin=0,ymax=1)"
   ]
  },
  {
   "cell_type": "code",
   "execution_count": 167,
   "id": "e09d994f",
   "metadata": {},
   "outputs": [
    {
     "data": {
      "image/png": "[encoded data removed]",
      "text/plain": [
       "<Figure size 432x288 with 1 Axes>"
      ]
     },
     "metadata": {
      "needs_background": "light"
     },
     "output_type": "display_data"
    }
   ],
   "source": [
    "good_review_df = calculate_threshold_values(gb_model.predict_proba(X_test)[:, 0], y_test)\n",
    "fig, ax = plt.subplots()\n",
    "plot_precision_recall(ax, good_review_df)"
   ]
  },
  {
   "cell_type": "code",
   "execution_count": 171,
   "id": "37ba4d50",
   "metadata": {},
   "outputs": [
    {
     "data": {
      "text/plain": [
       "array([[ 4428,   726,  1453],\n",
       "       [ 4055,   885,  1645],\n",
       "       [14898,  4525,  6991]])"
      ]
     },
     "execution_count": 171,
     "metadata": {},
     "output_type": "execute_result"
    }
   ],
   "source": [
    "confusion_matrix(y_holdout, final_rm_hat)\n",
    "#lots of false negatives(predicted bad review but actual good reviews)"
   ]
  },
  {
   "cell_type": "code",
   "execution_count": 168,
   "id": "13628a2a",
   "metadata": {},
   "outputs": [
    {
     "data": {
      "text/plain": [
       "array([[ 5739,   292,   576],\n",
       "       [ 5592,   311,   682],\n",
       "       [22435,  1124,  2855]])"
      ]
     },
     "execution_count": 168,
     "metadata": {},
     "output_type": "execute_result"
    }
   ],
   "source": [
    "confusion_matrix(y_holdout, final_gb_hat)\n",
    "#lots of false negatives here too"
   ]
  },
  {
   "cell_type": "code",
   "execution_count": 146,
   "id": "85f18f16",
   "metadata": {},
   "outputs": [],
   "source": [
    "scores = pd.DataFrame({'Baseline': baseline_scores,\n",
    "                    'Logistic Test':log_test_scores,\n",
    "                      'Logistic Final':final_log_scores,\n",
    "                      'Random Forest Test': rm_test_scores,\n",
    "                      'Random Forest Final': final_rm_scores,\n",
    "                      'Gradient Boosting Test': gb_test_scores,\n",
    "                      'Gradient Boosting Final':final_gb_scores},\n",
    "                     index=['Precision', 'Accuracy', 'Recall'])"
   ]
  },
  {
   "cell_type": "code",
   "execution_count": 169,
   "id": "b45dae82",
   "metadata": {},
   "outputs": [
    {
     "data": {
      "text/html": [
       "<div>\n",
       "<style scoped>\n",
       "    .dataframe tbody tr th:only-of-type {\n",
       "        vertical-align: middle;\n",
       "    }\n",
       "\n",
       "    .dataframe tbody tr th {\n",
       "        vertical-align: top;\n",
       "    }\n",
       "\n",
       "    .dataframe thead th {\n",
       "        text-align: right;\n",
       "    }\n",
       "</style>\n",
       "<table border=\"1\" class=\"dataframe\">\n",
       "  <thead>\n",
       "    <tr style=\"text-align: right;\">\n",
       "      <th></th>\n",
       "      <th>Baseline</th>\n",
       "      <th>Logistic Test</th>\n",
       "      <th>Logistic Final</th>\n",
       "      <th>Random Forest Test</th>\n",
       "      <th>Random Forest Final</th>\n",
       "      <th>Gradient Boosting Test</th>\n",
       "      <th>Gradient Boosting Final</th>\n",
       "    </tr>\n",
       "  </thead>\n",
       "  <tbody>\n",
       "    <tr>\n",
       "      <th>Precision</th>\n",
       "      <td>0.334350</td>\n",
       "      <td>0.655753</td>\n",
       "      <td>0.351516</td>\n",
       "      <td>0.601447</td>\n",
       "      <td>0.342183</td>\n",
       "      <td>0.597884</td>\n",
       "      <td>0.348062</td>\n",
       "    </tr>\n",
       "    <tr>\n",
       "      <th>Accuracy</th>\n",
       "      <td>0.334350</td>\n",
       "      <td>0.658107</td>\n",
       "      <td>0.324673</td>\n",
       "      <td>0.605258</td>\n",
       "      <td>0.310660</td>\n",
       "      <td>0.598482</td>\n",
       "      <td>0.224840</td>\n",
       "    </tr>\n",
       "    <tr>\n",
       "      <th>Recall</th>\n",
       "      <td>0.334354</td>\n",
       "      <td>0.658552</td>\n",
       "      <td>0.358604</td>\n",
       "      <td>0.605740</td>\n",
       "      <td>0.356422</td>\n",
       "      <td>0.598798</td>\n",
       "      <td>0.341313</td>\n",
       "    </tr>\n",
       "  </tbody>\n",
       "</table>\n",
       "</div>"
      ],
      "text/plain": [
       "           Baseline  Logistic Test  Logistic Final  Random Forest Test  \\\n",
       "Precision  0.334350       0.655753        0.351516            0.601447   \n",
       "Accuracy   0.334350       0.658107        0.324673            0.605258   \n",
       "Recall     0.334354       0.658552        0.358604            0.605740   \n",
       "\n",
       "           Random Forest Final  Gradient Boosting Test  \\\n",
       "Precision             0.342183                0.597884   \n",
       "Accuracy              0.310660                0.598482   \n",
       "Recall                0.356422                0.598798   \n",
       "\n",
       "           Gradient Boosting Final  \n",
       "Precision                 0.348062  \n",
       "Accuracy                  0.224840  \n",
       "Recall                    0.341313  "
      ]
     },
     "execution_count": 169,
     "metadata": {},
     "output_type": "execute_result"
    }
   ],
   "source": [
    "scores"
   ]
  },
  {
   "cell_type": "code",
   "execution_count": 113,
   "id": "085184f6",
   "metadata": {},
   "outputs": [],
   "source": []
  }
 ],
 "metadata": {
  "kernelspec": {
   "display_name": "Python 3",
   "language": "python",
   "name": "python3"
  },
  "language_info": {
   "codemirror_mode": {
    "name": "ipython",
    "version": 3
   },
   "file_extension": ".py",
   "mimetype": "text/x-python",
   "name": "python",
   "nbconvert_exporter": "python",
   "pygments_lexer": "ipython3",
   "version": "3.8.2"
  }
 },
 "nbformat": 4,
 "nbformat_minor": 5
}
