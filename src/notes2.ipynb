{
 "cells": [
  {
   "cell_type": "code",
   "execution_count": 271,
   "id": "08e63b1f",
   "metadata": {},
   "outputs": [],
   "source": [
    "\n",
    "import pandas as pd\n",
    "import matplotlib.pyplot as plt\n",
    "import numpy as np\n",
    "import dataframe_image as dfi\n",
    "from nltk.corpus import stopwords\n",
    "from sklearn.feature_extraction.text import TfidfVectorizer, CountVectorizer\n",
    "from numpy.linalg import svd as SVD\n",
    "from sklearn.decomposition import LatentDirichletAllocation as LDA \n",
    "from sklearn.model_selection import train_test_split\n",
    "from sklearn.linear_model import LogisticRegression\n",
    "from nltk.stem.wordnet import WordNetLemmatizer\n",
    "from sklearn.metrics import mean_squared_error as mse\n",
    "from sklearn.metrics import precision_score, accuracy_score, recall_score,\\\n",
    "confusion_matrix, ConfusionMatrixDisplay, plot_confusion_matrix\n",
    "from sklearn.ensemble import RandomForestClassifier, GradientBoostingClassifier\n",
    "from sklearn.model_selection import GridSearchCV\n",
    "import pickle\n",
    "\n",
    "from keras.preprocessing.text import Tokenizer\n",
    "from keras.preprocessing.sequence import pad_sequences\n",
    "from keras.models import Sequential\n",
    "from keras.layers import Dense, Embedding, LSTM, SpatialDropout1D\n",
    "from keras.utils.np_utils import to_categorical\n",
    "from keras.callbacks import EarlyStopping\n",
    "from keras.layers import Dropout\n",
    "%matplotlib inline"
   ]
  },
  {
   "cell_type": "code",
   "execution_count": 18,
   "id": "8ddcacbb",
   "metadata": {},
   "outputs": [],
   "source": [
    "reviews = pd.read_csv('../data/yelp.csv', index_col=0)\n",
    "reviews.drop('business_neighborhoods', axis=1, inplace=True)\n",
    "reviews = reviews[reviews['business_categories'].str.contains('Restaurant') == True]\n",
    "no_rev = reviews[pd.isna(reviews['text']) == True].index \n",
    "reviews.drop(labels=no_rev, axis=0, inplace=True)\n",
    "reviews = reviews.reset_index().drop('index', axis=1)"
   ]
  },
  {
   "cell_type": "code",
   "execution_count": 19,
   "id": "3d8db10b",
   "metadata": {},
   "outputs": [],
   "source": [
    "#im going to group 1-2 reatings and 4-5 ratings together\n",
    "reviews['stars'] = reviews['stars'].apply(lambda x: 1 if x <= 2 else x)\n",
    "reviews['stars'] = reviews['stars'].apply(lambda x : 2 if x == 3 else x)\n",
    "reviews['stars'] = reviews['stars'].apply(lambda x: 3 if x >=4 else x)\n",
    "\n",
    "#classification labels: 1 if rating <=2, 2 if rating == 3, 3 if rating >= 4"
   ]
  },
  {
   "cell_type": "code",
   "execution_count": 20,
   "id": "c464e8d0",
   "metadata": {},
   "outputs": [
    {
     "data": {
      "text/plain": [
       "0         3\n",
       "1         3\n",
       "2         3\n",
       "3         3\n",
       "4         3\n",
       "         ..\n",
       "158419    1\n",
       "158420    1\n",
       "158421    1\n",
       "158422    3\n",
       "158423    2\n",
       "Name: stars, Length: 158424, dtype: int64"
      ]
     },
     "execution_count": 20,
     "metadata": {},
     "output_type": "execute_result"
    }
   ],
   "source": [
    "reviews['stars']"
   ]
  },
  {
   "cell_type": "code",
   "execution_count": 212,
   "id": "967b9cbb",
   "metadata": {},
   "outputs": [],
   "source": [
    "def vectorize(df ,column, method='tfidf'):\n",
    "        #takes in name of column to be cleaned, and method to vectorize\n",
    "        lem = WordNetLemmatizer()\n",
    "        #lemmatizing as opposed to stemming \n",
    "        s_words = stopwords.words('english')\n",
    "        texts = []\n",
    "        for doc in df[column].values:\n",
    "            cleaned = [lem.lemmatize(word).lower() for word in doc.split(' ') \\\n",
    "                       if word not in s_words and word.isalpha() == True]\n",
    "            #making sure that every word onl\n",
    "            texts.append(' '.join(cleaned))\n",
    "  \n",
    "        if method == 'tfidf':\n",
    "            vectorizer = TfidfVectorizer(stop_words='english', max_features=5000)\n",
    "            vectorized = vectorizer.fit_transform(texts).toarray()\n",
    "            return vectorized\n",
    "            #creating a feature names attribute(bag of words)\n",
    "        elif method == 'count':\n",
    "            vectorizer = CountVectorizer(stop_words='english', max_features=5000)\n",
    "            vectorized = vectorizer.fit_transform(texts).toarray()\n",
    "            return vectorized\n",
    "def calc_scores(y_true, y_predict):\n",
    "    precision = precision_score(y_true, y_predict,average='micro')\n",
    "    accuracy = accuracy_score(y_true, y_predict)\n",
    "    recall = recall_score(y_true, y_predict, average='micro')\n",
    "    print(f'Precision : {precision} \\n'  \n",
    "          f'Accuracy : {accuracy} \\n'\n",
    "         f'Recall: {recall}')\n",
    "    return [precision, accuracy, recall]"
   ]
  },
  {
   "cell_type": "code",
   "execution_count": 21,
   "id": "8c9a37d4",
   "metadata": {},
   "outputs": [
    {
     "data": {
      "text/plain": [
       "(0.0, 4.0)"
      ]
     },
     "execution_count": 21,
     "metadata": {},
     "output_type": "execute_result"
    },
    {
     "data": {
      "image/png": "[encoded data removed]",
      "text/plain": [
       "<Figure size 432x288 with 1 Axes>"
      ]
     },
     "metadata": {
      "needs_background": "light"
     },
     "output_type": "display_data"
    }
   ],
   "source": [
    "fig, ax = plt.subplots()\n",
    "ax.hist(reviews['stars'], )\n",
    "ax.set_xlim(0,4)"
   ]
  },
  {
   "cell_type": "code",
   "execution_count": 76,
   "id": "0ce8ae7d",
   "metadata": {},
   "outputs": [],
   "source": [
    "df_train, df_holdout = train_test_split(reviews)"
   ]
  },
  {
   "cell_type": "code",
   "execution_count": 77,
   "id": "4a6b165e",
   "metadata": {},
   "outputs": [
    {
     "data": {
      "text/plain": [
       "(118818, 39606)"
      ]
     },
     "execution_count": 77,
     "metadata": {},
     "output_type": "execute_result"
    }
   ],
   "source": [
    "len(df_train), len(df_holdout)"
   ]
  },
  {
   "cell_type": "code",
   "execution_count": 78,
   "id": "fe71f425",
   "metadata": {},
   "outputs": [
    {
     "data": {
      "text/plain": [
       "(19698, 19678, 79442, 118818)"
      ]
     },
     "execution_count": 78,
     "metadata": {},
     "output_type": "execute_result"
    }
   ],
   "source": [
    "train_total = len(df_train)\n",
    "\n",
    "train_class_a = len(df_train[df_train.stars ==1])\n",
    "train_class_b = len(df_train[df_train.stars == 2])\n",
    "train_class_c = len(df_train[df_train.stars == 3])\n",
    "train_class_a, train_class_b, train_class_c, train_total"
   ]
  },
  {
   "cell_type": "code",
   "execution_count": 79,
   "id": "16426f14",
   "metadata": {},
   "outputs": [],
   "source": [
    "samp_pct = train_class_a / train_class_c\n",
    "samp_num = samp_pct * train_class_c"
   ]
  },
  {
   "cell_type": "code",
   "execution_count": 80,
   "id": "adb89bdf",
   "metadata": {},
   "outputs": [
    {
     "data": {
      "text/plain": [
       "19698.0"
      ]
     },
     "execution_count": 80,
     "metadata": {},
     "output_type": "execute_result"
    }
   ],
   "source": [
    "samp_num"
   ]
  },
  {
   "cell_type": "code",
   "execution_count": 59,
   "id": "b5e9f8e7",
   "metadata": {},
   "outputs": [
    {
     "data": {
      "text/plain": [
       "19717"
      ]
     },
     "execution_count": 59,
     "metadata": {},
     "output_type": "execute_result"
    }
   ],
   "source": [
    "train_class_a"
   ]
  },
  {
   "cell_type": "code",
   "execution_count": 66,
   "id": "286352b9",
   "metadata": {},
   "outputs": [],
   "source": [
    "def downsample(df:pd.DataFrame, label_col_name:str) -> pd.DataFrame:\n",
    "    # find the number of observations in the smallest group\n",
    "    nmin = df[label_col_name].value_counts().min()\n",
    "    return (df\n",
    "            # split the dataframe per group\n",
    "            .groupby(label_col_name)\n",
    "            # sample nmin observations from each group\n",
    "            .apply(lambda x: x.sample(nmin))\n",
    "            # recombine the dataframes\n",
    "            .reset_index(drop=True)\n",
    "           )"
   ]
  },
  {
   "cell_type": "code",
   "execution_count": 82,
   "id": "8e330705",
   "metadata": {},
   "outputs": [],
   "source": [
    "df_train = downsample(df_train, 'stars')"
   ]
  },
  {
   "cell_type": "code",
   "execution_count": 257,
   "id": "1f61ee7c",
   "metadata": {},
   "outputs": [],
   "source": [
    "def check_class_balance(df, column, labels):\n",
    "    total = len(df)\n",
    "    classes = {'total':total}\n",
    "    for i, label in enumerate(labels):\n",
    "        classes[label] = len(df[df[column] == label])\n",
    "    return classes"
   ]
  },
  {
   "cell_type": "code",
   "execution_count": 258,
   "id": "d5b78e60",
   "metadata": {},
   "outputs": [
    {
     "data": {
      "text/plain": [
       "{'total': 59034, 1: 19678, 2: 19678, 3: 19678}"
      ]
     },
     "execution_count": 258,
     "metadata": {},
     "output_type": "execute_result"
    }
   ],
   "source": [
    "check_class_balance(df_train, 'stars', [1, 2, 3])"
   ]
  },
  {
   "cell_type": "code",
   "execution_count": 83,
   "id": "a8b56fef",
   "metadata": {},
   "outputs": [
    {
     "data": {
      "text/plain": [
       "(19678, 19678, 19678, 59034)"
      ]
     },
     "execution_count": 83,
     "metadata": {},
     "output_type": "execute_result"
    }
   ],
   "source": [
    "#checking to see class balanced\n",
    "train_total = len(df_train)\n",
    "train_class_a = len(df_train[df_train.stars ==1])\n",
    "train_class_b = len(df_train[df_train.stars == 2])\n",
    "train_class_c = len(df_train[df_train.stars == 3])\n",
    "train_class_a, train_class_b, train_class_c, train_total"
   ]
  },
  {
   "cell_type": "code",
   "execution_count": 85,
   "id": "737170e1",
   "metadata": {},
   "outputs": [],
   "source": [
    "#now i can split into X and y and vectorize \n",
    "X = vectorize(df_train, 'text')\n",
    "y = df_train['stars'].values"
   ]
  },
  {
   "cell_type": "code",
   "execution_count": 106,
   "id": "cf902751",
   "metadata": {},
   "outputs": [],
   "source": [
    "X_holdout = vectorize(df_holdout, 'text')\n",
    "y_holdout = df_holdout['stars'].values"
   ]
  },
  {
   "cell_type": "code",
   "execution_count": 93,
   "id": "72479cb7",
   "metadata": {},
   "outputs": [],
   "source": [
    "X_train, X_test, y_train, y_test = train_test_split(X, y)"
   ]
  },
  {
   "cell_type": "code",
   "execution_count": 87,
   "id": "3c27c405",
   "metadata": {},
   "outputs": [],
   "source": [
    "baseline_y = []\n",
    "for i in range(len(y)):\n",
    "    baseline_y.append(np.random.choice([1, 2, 3]))\n"
   ]
  },
  {
   "cell_type": "code",
   "execution_count": 88,
   "id": "5376d0ea",
   "metadata": {},
   "outputs": [
    {
     "name": "stdout",
     "output_type": "stream",
     "text": [
      "Precision : 0.33434969678490356 \n",
      "Accuracy : 0.3343496967849036 \n",
      "Recall: 0.33435393846553163\n"
     ]
    }
   ],
   "source": [
    "baseline_scores = scores(baseline_y, y)"
   ]
  },
  {
   "cell_type": "code",
   "execution_count": 94,
   "id": "dc5ede64",
   "metadata": {},
   "outputs": [
    {
     "data": {
      "text/plain": [
       "array([[0., 0., 0., ..., 0., 0., 0.],\n",
       "       [0., 0., 0., ..., 0., 0., 0.],\n",
       "       [0., 0., 0., ..., 0., 0., 0.],\n",
       "       ...,\n",
       "       [0., 0., 0., ..., 0., 0., 0.],\n",
       "       [0., 0., 0., ..., 0., 0., 0.],\n",
       "       [0., 0., 0., ..., 0., 0., 0.]])"
      ]
     },
     "execution_count": 94,
     "metadata": {},
     "output_type": "execute_result"
    }
   ],
   "source": [
    "X_test"
   ]
  },
  {
   "cell_type": "code",
   "execution_count": 117,
   "id": "c8644df3",
   "metadata": {},
   "outputs": [],
   "source": [
    "log_model = LogisticRegression().fit(X_train, y_train)\n",
    "log_hat = log_model.predict(X_test)\n"
   ]
  },
  {
   "cell_type": "code",
   "execution_count": 118,
   "id": "acfbd27b",
   "metadata": {},
   "outputs": [
    {
     "name": "stdout",
     "output_type": "stream",
     "text": [
      "Precision : 0.6557526341989429 \n",
      "Accuracy : 0.6581069178128599 \n",
      "Recall: 0.6585519455143973\n"
     ]
    }
   ],
   "source": [
    "log_test_scores = scores(y_test, log_hat)"
   ]
  },
  {
   "cell_type": "code",
   "execution_count": 107,
   "id": "4352b833",
   "metadata": {},
   "outputs": [
    {
     "name": "stdout",
     "output_type": "stream",
     "text": [
      "Precision : 0.35151617252061773 \n",
      "Accuracy : 0.32467302933898906 \n",
      "Recall: 0.3586035770596762\n"
     ]
    }
   ],
   "source": [
    "final_log_hat = log_model.predict(X_holdout)\n",
    "final_log_scores = scores(y_holdout, final_log_hat)\n"
   ]
  },
  {
   "cell_type": "code",
   "execution_count": 97,
   "id": "020c0a91",
   "metadata": {},
   "outputs": [],
   "source": [
    "rm_model = RandomForestClassifier(max_samples=.5).fit(X_train, y_train)"
   ]
  },
  {
   "cell_type": "code",
   "execution_count": 141,
   "id": "bd3f8b5b",
   "metadata": {},
   "outputs": [
    {
     "name": "stdout",
     "output_type": "stream",
     "text": [
      "Precision : 0.601446622465564 \n",
      "Accuracy : 0.6052578087946338 \n",
      "Recall: 0.6057401528144193\n"
     ]
    }
   ],
   "source": [
    "rm_hat = rm_model.predict(X_test)\n",
    "rm_test_scores = scores(y_test, rm_hat)"
   ]
  },
  {
   "cell_type": "code",
   "execution_count": 108,
   "id": "2496f183",
   "metadata": {},
   "outputs": [
    {
     "name": "stdout",
     "output_type": "stream",
     "text": [
      "Precision : 0.34218273648352054 \n",
      "Accuracy : 0.310660001009948 \n",
      "Recall: 0.3564216268450105\n"
     ]
    }
   ],
   "source": [
    "final_rm_hat = rm_model.predict(X_holdout)\n",
    "final_rm_scores = scores(y_holdout, final_rm_hat)"
   ]
  },
  {
   "cell_type": "code",
   "execution_count": 101,
   "id": "a2bef6ac",
   "metadata": {},
   "outputs": [],
   "source": [
    "gb_model = GradientBoostingClassifier().fit(X_train, y_train)"
   ]
  },
  {
   "cell_type": "code",
   "execution_count": 102,
   "id": "ba6a97fc",
   "metadata": {},
   "outputs": [],
   "source": [
    "pickle.dump(gb_model, open('gb_model.pkl', 'wb'))"
   ]
  },
  {
   "cell_type": "code",
   "execution_count": 143,
   "id": "7276199e",
   "metadata": {},
   "outputs": [
    {
     "name": "stdout",
     "output_type": "stream",
     "text": [
      "Precision : 0.5978838049919876 \n",
      "Accuracy : 0.5984822819974253 \n",
      "Recall: 0.5987978263997074\n"
     ]
    }
   ],
   "source": [
    "gb_hat = gb_model.predict(X_test)\n",
    "gb_test_scores = scores(y_test, gb_hat)"
   ]
  },
  {
   "cell_type": "code",
   "execution_count": 119,
   "id": "5bd90c2d",
   "metadata": {},
   "outputs": [
    {
     "name": "stdout",
     "output_type": "stream",
     "text": [
      "Precision : 0.3480618214795866 \n",
      "Accuracy : 0.22483967075695602 \n",
      "Recall: 0.34131311897819044\n"
     ]
    }
   ],
   "source": [
    "# final_gb_hat = gb_model.predict(X_holdout)\n",
    "final_gb_scores = scores(y_holdout, final_gb_hat)"
   ]
  },
  {
   "cell_type": "code",
   "execution_count": 139,
   "id": "21cb26ab",
   "metadata": {},
   "outputs": [
    {
     "data": {
      "text/plain": [
       "array([3, 2, 2, ..., 2, 1, 1])"
      ]
     },
     "execution_count": 139,
     "metadata": {},
     "output_type": "execute_result"
    }
   ],
   "source": [
    "y_test"
   ]
  },
  {
   "cell_type": "code",
   "execution_count": 121,
   "id": "e32409e0",
   "metadata": {},
   "outputs": [
    {
     "data": {
      "text/plain": [
       "array([[0.24692458, 0.50321515, 0.24986027],\n",
       "       [0.17147684, 0.38870036, 0.4398228 ],\n",
       "       [0.39423642, 0.43939234, 0.16637124],\n",
       "       ...,\n",
       "       [0.20907071, 0.40593391, 0.38499538],\n",
       "       [0.38824536, 0.42930006, 0.18245458],\n",
       "       [0.34480942, 0.37024293, 0.28494765]])"
      ]
     },
     "execution_count": 121,
     "metadata": {},
     "output_type": "execute_result"
    }
   ],
   "source": [
    "gb_model.predict_proba(X_test)"
   ]
  },
  {
   "cell_type": "code",
   "execution_count": 137,
   "id": "5d1b94f2",
   "metadata": {},
   "outputs": [],
   "source": [
    "def calculate_threshold_values(prob, y):\n",
    "    '''\n",
    "    Build dataframe of the various confusion-matrix ratios by threshold\n",
    "    from a list of predicted probabilities and actual y values\n",
    "    '''\n",
    "    df = pd.DataFrame({'prob': prob, 'y': y})\n",
    "    df.sort_values('prob', inplace=True)\n",
    "    \n",
    "    actual_p = df.y.sum()\n",
    "    actual_n = df.shape[0] - df.y.sum()\n",
    "\n",
    "    df['tn'] = (df.y == 0).cumsum()\n",
    "    df['fn'] = df.y.cumsum()\n",
    "    df['fp'] = actual_n - df.tn\n",
    "    df['tp'] = actual_p - df.fn\n",
    "\n",
    "    df['fpr'] = df.fp/(df.fp + df.tn)\n",
    "    df['tpr'] = df.tp/(df.tp + df.fn)\n",
    "    df['precision'] = df.tp/(df.tp + df.fp)\n",
    "    df = df.reset_index(drop=True)\n",
    "    return df\n",
    "def plot_precision_recall(ax, df):\n",
    "    ax.plot(df.tpr,df.precision, label='precision/recall')\n",
    "    #ax.plot([0,1],[0,1], 'k')\n",
    "    ax.set_xlabel('recall')\n",
    "    ax.set_ylabel('precision')\n",
    "    ax.set_title('Precision/Recall Curve')\n",
    "#     ax.plot([0,1],[df.precision[0],df.precision[0]], 'k', label='random')\n",
    "#     ax.set_xlim(xmin=0,xmax=1)\n",
    "#     ax.set_ylim(ymin=0,ymax=1)"
   ]
  },
  {
   "cell_type": "code",
   "execution_count": 167,
   "id": "8974cc2b",
   "metadata": {},
   "outputs": [
    {
     "data": {
      "image/png": "[encoded data removed]",
      "text/plain": [
       "<Figure size 432x288 with 1 Axes>"
      ]
     },
     "metadata": {
      "needs_background": "light"
     },
     "output_type": "display_data"
    }
   ],
   "source": [
    "good_review_df = calculate_threshold_values(gb_model.predict_proba(X_test)[:, 0], y_test)\n",
    "fig, ax = plt.subplots()\n",
    "plot_precision_recall(ax, good_review_df)"
   ]
  },
  {
   "cell_type": "code",
   "execution_count": 171,
   "id": "16daa378",
   "metadata": {},
   "outputs": [
    {
     "data": {
      "text/plain": [
       "array([[ 4428,   726,  1453],\n",
       "       [ 4055,   885,  1645],\n",
       "       [14898,  4525,  6991]])"
      ]
     },
     "execution_count": 171,
     "metadata": {},
     "output_type": "execute_result"
    }
   ],
   "source": [
    "confusion_matrix(y_holdout, final_rm_hat)\n",
    "#lots of false negatives(predicted bad review but actual good reviews)"
   ]
  },
  {
   "cell_type": "code",
   "execution_count": 168,
   "id": "9cf9beaf",
   "metadata": {},
   "outputs": [
    {
     "data": {
      "text/plain": [
       "array([[ 5739,   292,   576],\n",
       "       [ 5592,   311,   682],\n",
       "       [22435,  1124,  2855]])"
      ]
     },
     "execution_count": 168,
     "metadata": {},
     "output_type": "execute_result"
    }
   ],
   "source": [
    "confusion_matrix(y_holdout, final_gb_hat)\n",
    "#lots of false negatives here too"
   ]
  },
  {
   "cell_type": "code",
   "execution_count": 146,
   "id": "8ccf3d31",
   "metadata": {},
   "outputs": [],
   "source": [
    "scores = pd.DataFrame({'Baseline': baseline_scores,\n",
    "                    'Logistic Test':log_test_scores,\n",
    "                      'Logistic Final':final_log_scores,\n",
    "                      'Random Forest Test': rm_test_scores,\n",
    "                      'Random Forest Final': final_rm_scores,\n",
    "                      'Gradient Boosting Test': gb_test_scores,\n",
    "                      'Gradient Boosting Final':final_gb_scores},\n",
    "                     index=['Precision', 'Accuracy', 'Recall'])"
   ]
  },
  {
   "cell_type": "code",
   "execution_count": 169,
   "id": "3045334d",
   "metadata": {},
   "outputs": [
    {
     "data": {
      "text/html": [
       "<div>\n",
       "<style scoped>\n",
       "    .dataframe tbody tr th:only-of-type {\n",
       "        vertical-align: middle;\n",
       "    }\n",
       "\n",
       "    .dataframe tbody tr th {\n",
       "        vertical-align: top;\n",
       "    }\n",
       "\n",
       "    .dataframe thead th {\n",
       "        text-align: right;\n",
       "    }\n",
       "</style>\n",
       "<table border=\"1\" class=\"dataframe\">\n",
       "  <thead>\n",
       "    <tr style=\"text-align: right;\">\n",
       "      <th></th>\n",
       "      <th>Baseline</th>\n",
       "      <th>Logistic Test</th>\n",
       "      <th>Logistic Final</th>\n",
       "      <th>Random Forest Test</th>\n",
       "      <th>Random Forest Final</th>\n",
       "      <th>Gradient Boosting Test</th>\n",
       "      <th>Gradient Boosting Final</th>\n",
       "    </tr>\n",
       "  </thead>\n",
       "  <tbody>\n",
       "    <tr>\n",
       "      <th>Precision</th>\n",
       "      <td>0.334350</td>\n",
       "      <td>0.655753</td>\n",
       "      <td>0.351516</td>\n",
       "      <td>0.601447</td>\n",
       "      <td>0.342183</td>\n",
       "      <td>0.597884</td>\n",
       "      <td>0.348062</td>\n",
       "    </tr>\n",
       "    <tr>\n",
       "      <th>Accuracy</th>\n",
       "      <td>0.334350</td>\n",
       "      <td>0.658107</td>\n",
       "      <td>0.324673</td>\n",
       "      <td>0.605258</td>\n",
       "      <td>0.310660</td>\n",
       "      <td>0.598482</td>\n",
       "      <td>0.224840</td>\n",
       "    </tr>\n",
       "    <tr>\n",
       "      <th>Recall</th>\n",
       "      <td>0.334354</td>\n",
       "      <td>0.658552</td>\n",
       "      <td>0.358604</td>\n",
       "      <td>0.605740</td>\n",
       "      <td>0.356422</td>\n",
       "      <td>0.598798</td>\n",
       "      <td>0.341313</td>\n",
       "    </tr>\n",
       "  </tbody>\n",
       "</table>\n",
       "</div>"
      ],
      "text/plain": [
       "           Baseline  Logistic Test  Logistic Final  Random Forest Test  \\\n",
       "Precision  0.334350       0.655753        0.351516            0.601447   \n",
       "Accuracy   0.334350       0.658107        0.324673            0.605258   \n",
       "Recall     0.334354       0.658552        0.358604            0.605740   \n",
       "\n",
       "           Random Forest Final  Gradient Boosting Test  \\\n",
       "Precision             0.342183                0.597884   \n",
       "Accuracy              0.310660                0.598482   \n",
       "Recall                0.356422                0.598798   \n",
       "\n",
       "           Gradient Boosting Final  \n",
       "Precision                 0.348062  \n",
       "Accuracy                  0.224840  \n",
       "Recall                    0.341313  "
      ]
     },
     "execution_count": 169,
     "metadata": {},
     "output_type": "execute_result"
    }
   ],
   "source": [
    "scores"
   ]
  },
  {
   "cell_type": "code",
   "execution_count": 173,
   "id": "7347a9fa",
   "metadata": {},
   "outputs": [
    {
     "name": "stdout",
     "output_type": "stream",
     "text": [
      "Found 75396 unique tokens.\n"
     ]
    }
   ],
   "source": [
    "#okay going to try LSTM next \n",
    "# The maximum number of words to be used. (most frequent)\n",
    "MAX_NB_WORDS = 50000\n",
    "# Max number of words in each complaint.\n",
    "MAX_SEQUENCE_LENGTH = 250\n",
    "# This is fixed.\n",
    "EMBEDDING_DIM = 100\n",
    "\n",
    "tokenizer = Tokenizer(num_words=MAX_NB_WORDS, filters='!\"#$%&()*+,-./:;<=>?@[\\]^_`{|}~', lower=True)\n",
    "tokenizer.fit_on_texts(df_train['text'].values)\n",
    "word_index = tokenizer.word_index\n",
    "print('Found %s unique tokens.' % len(word_index))"
   ]
  },
  {
   "cell_type": "code",
   "execution_count": 175,
   "id": "c111a746",
   "metadata": {},
   "outputs": [
    {
     "name": "stdout",
     "output_type": "stream",
     "text": [
      "Shape of data tensor: (59034, 250)\n"
     ]
    }
   ],
   "source": [
    "X_lstm = tokenizer.texts_to_sequences(df_train['text'].values)\n",
    "X_lstm = pad_sequences(X_lstm, maxlen=MAX_SEQUENCE_LENGTH)\n",
    "print('Shape of data tensor:', X_lstm.shape)"
   ]
  },
  {
   "cell_type": "code",
   "execution_count": 179,
   "id": "ac6b04dc",
   "metadata": {},
   "outputs": [
    {
     "name": "stdout",
     "output_type": "stream",
     "text": [
      "Shape of label tensor: (59034, 3)\n"
     ]
    }
   ],
   "source": [
    "\n",
    "Y_lstm = pd.get_dummies(df_train['stars']).values\n",
    "print('Shape of label tensor:', Y_lstm.shape)"
   ]
  },
  {
   "cell_type": "code",
   "execution_count": 181,
   "id": "438b77c7",
   "metadata": {},
   "outputs": [],
   "source": [
    "X_lstm_train, X_lstm_test, y_lstm_train, y_lstm_test = train_test_split(X_lstm, Y_lstm)"
   ]
  },
  {
   "cell_type": "code",
   "execution_count": 188,
   "id": "aeaf01f8",
   "metadata": {},
   "outputs": [
    {
     "name": "stdout",
     "output_type": "stream",
     "text": [
      "Model: \"sequential_3\"\n",
      "_________________________________________________________________\n",
      "Layer (type)                 Output Shape              Param #   \n",
      "=================================================================\n",
      "embedding_3 (Embedding)      (None, 250, 100)          5000000   \n",
      "_________________________________________________________________\n",
      "spatial_dropout1d_3 (Spatial (None, 250, 100)          0         \n",
      "_________________________________________________________________\n",
      "lstm_3 (LSTM)                (None, 100)               80400     \n",
      "_________________________________________________________________\n",
      "dense_3 (Dense)              (None, 3)                 303       \n",
      "=================================================================\n",
      "Total params: 5,080,703\n",
      "Trainable params: 5,080,703\n",
      "Non-trainable params: 0\n",
      "_________________________________________________________________\n",
      "None\n"
     ]
    }
   ],
   "source": [
    "model = Sequential()\n",
    "model.add(Embedding(MAX_NB_WORDS, EMBEDDING_DIM, input_length=X_lstm.shape[1]))\n",
    "model.add(SpatialDropout1D(0.2))\n",
    "model.add(LSTM(100, dropout=0.2, recurrent_dropout=0.2))\n",
    "model.add(Dense(3, activation='softmax'))\n",
    "model.compile(loss='categorical_crossentropy', optimizer='adam', metrics=['accuracy', 'recall'])\n",
    "print(model.summary())"
   ]
  },
  {
   "cell_type": "code",
   "execution_count": 189,
   "id": "8339c69f",
   "metadata": {},
   "outputs": [
    {
     "name": "stdout",
     "output_type": "stream",
     "text": [
      "Epoch 1/5\n",
      "623/623 [==============================] - 674s 1s/step - loss: 0.8884 - accuracy: 0.5528 - val_loss: 0.6981 - val_accuracy: 0.6920\n",
      "Epoch 2/5\n",
      "623/623 [==============================] - 804s 1s/step - loss: 0.5980 - accuracy: 0.7416 - val_loss: 0.6608 - val_accuracy: 0.7166\n",
      "Epoch 3/5\n",
      "623/623 [==============================] - 844s 1s/step - loss: 0.4701 - accuracy: 0.8112 - val_loss: 0.6889 - val_accuracy: 0.7037\n",
      "Epoch 4/5\n",
      "623/623 [==============================] - 867s 1s/step - loss: 0.3958 - accuracy: 0.8427 - val_loss: 0.7603 - val_accuracy: 0.6935\n",
      "Epoch 5/5\n",
      "623/623 [==============================] - 1134s 2s/step - loss: 0.3262 - accuracy: 0.8760 - val_loss: 0.8409 - val_accuracy: 0.7010\n"
     ]
    }
   ],
   "source": [
    "epochs = 5\n",
    "batch_size = 64\n",
    "\n",
    "history = model.fit(X_lstm_train, y_lstm_train, epochs=epochs, batch_size=batch_size,validation_split=0.1,\n",
    "                    callbacks=[EarlyStopping(monitor='val_loss', patience=3, min_delta=0.0001)])"
   ]
  },
  {
   "cell_type": "code",
   "execution_count": 192,
   "id": "cf0792c0",
   "metadata": {},
   "outputs": [
    {
     "data": {
      "text/plain": [
       "{'loss': [0.7820824384689331,\n",
       "  0.5954062938690186,\n",
       "  0.48573553562164307,\n",
       "  0.4104870855808258,\n",
       "  0.34112057089805603],\n",
       " 'accuracy': [0.6313900947570801,\n",
       "  0.7445479035377502,\n",
       "  0.8014405369758606,\n",
       "  0.8359224200248718,\n",
       "  0.8692247867584229],\n",
       " 'val_loss': [0.6980506777763367,\n",
       "  0.6607984900474548,\n",
       "  0.6888737082481384,\n",
       "  0.76025390625,\n",
       "  0.8408969640731812],\n",
       " 'val_accuracy': [0.6919602751731873,\n",
       "  0.716576337814331,\n",
       "  0.7037037014961243,\n",
       "  0.6935411095619202,\n",
       "  0.7009936571121216]}"
      ]
     },
     "execution_count": 192,
     "metadata": {},
     "output_type": "execute_result"
    }
   ],
   "source": [
    "history.history"
   ]
  },
  {
   "cell_type": "code",
   "execution_count": 272,
   "id": "18dffbee",
   "metadata": {},
   "outputs": [
    {
     "data": {
      "image/png": "[encoded data removed]",
      "text/plain": [
       "<Figure size 576x432 with 1 Axes>"
      ]
     },
     "metadata": {
      "needs_background": "light"
     },
     "output_type": "display_data"
    }
   ],
   "source": [
    "fig, ax = plt.subplots(figsize=(8, 6))\n",
    "ax.set_title('Accuracy')\n",
    "ax.plot(history.history['accuracy'], label='train', color='lightcoral')\n",
    "ax.plot(history.history['val_accuracy'], label='test', color='steelblue')\n",
    "ax.set_xlabel('Epoch')\n",
    "ax.set_xticks(np.arange(5))\n",
    "ax.set_xticklabels(np.arange(1, 6))\n",
    "ax.legend()\n",
    "ax.grid()\n",
    "plt.savefig('../img/accr.png');"
   ]
  },
  {
   "cell_type": "code",
   "execution_count": 203,
   "id": "3ad78088",
   "metadata": {},
   "outputs": [
    {
     "name": "stdout",
     "output_type": "stream",
     "text": [
      "462/462 [==============================] - 67s 145ms/step - loss: 0.8294 - accuracy: 0.6983\n"
     ]
    },
    {
     "data": {
      "text/plain": [
       "[0.8294102549552917, 0.6982858180999756]"
      ]
     },
     "execution_count": 203,
     "metadata": {},
     "output_type": "execute_result"
    }
   ],
   "source": [
    "model.evaluate(X_lstm_test, y_lstm_test)"
   ]
  },
  {
   "cell_type": "code",
   "execution_count": 243,
   "id": "72e2e08a",
   "metadata": {},
   "outputs": [],
   "source": [
    "#function to generate hard classified labels \n",
    "def hard(soft_hat):\n",
    "    hard_hat = []\n",
    "    for row in soft_hat:\n",
    "        cls = int(np.where(row == np.max(row))[0]) + 1\n",
    "        hard_hat.append(cls)\n",
    "    hard_hat = np.array(hard_hat)\n",
    "    return hard_hat"
   ]
  },
  {
   "cell_type": "code",
   "execution_count": 245,
   "id": "a12320f2",
   "metadata": {},
   "outputs": [
    {
     "data": {
      "text/plain": [
       "array([2, 1, 2, ..., 1, 2, 3])"
      ]
     },
     "execution_count": 245,
     "metadata": {},
     "output_type": "execute_result"
    }
   ],
   "source": [
    "y_lstm_test_hat = hard(model.predict(X_lstm_test))\n",
    "y_lstm_test_hat"
   ]
  },
  {
   "cell_type": "code",
   "execution_count": null,
   "id": "4130f158",
   "metadata": {},
   "outputs": [],
   "source": []
  },
  {
   "cell_type": "code",
   "execution_count": 247,
   "id": "244b4a70",
   "metadata": {},
   "outputs": [
    {
     "name": "stdout",
     "output_type": "stream",
     "text": [
      "Precision : 0.6962905776560707 \n",
      "Accuracy : 0.6982857917203062 \n",
      "Recall: 0.6994775911120859\n"
     ]
    }
   ],
   "source": [
    "lstm_test_scores = calc_scores(hard(y_lstm_test), y_lstm_test_hat)"
   ]
  },
  {
   "cell_type": "code",
   "execution_count": 207,
   "id": "2e95cffa",
   "metadata": {},
   "outputs": [],
   "source": [
    "#going to try on holdout(unbalanced)\n",
    "X_lstm_holdout = tokenizer.texts_to_sequences(df_holdout['text'].values)\n",
    "X_lstm_holdout = pad_sequences(X_lstm_holdout, maxlen=MAX_SEQUENCE_LENGTH)\n",
    "y_lstm_holdout = pd.get_dummies(df_holdout['stars']).values"
   ]
  },
  {
   "cell_type": "code",
   "execution_count": 208,
   "id": "a9feb699",
   "metadata": {},
   "outputs": [
    {
     "name": "stdout",
     "output_type": "stream",
     "text": [
      "1238/1238 [==============================] - 112s 90ms/step - loss: 0.7830 - accuracy: 0.7262\n"
     ]
    },
    {
     "data": {
      "text/plain": [
       "[0.7829727530479431, 0.7261525988578796]"
      ]
     },
     "execution_count": 208,
     "metadata": {},
     "output_type": "execute_result"
    }
   ],
   "source": [
    "model.evaluate(X_lstm_holdout, y_lstm_holdout)"
   ]
  },
  {
   "cell_type": "code",
   "execution_count": 210,
   "id": "25e14071",
   "metadata": {},
   "outputs": [],
   "source": [
    "y_lstm_hat = model.predict(X_lstm_holdout)"
   ]
  },
  {
   "cell_type": "code",
   "execution_count": 230,
   "id": "8918762e",
   "metadata": {},
   "outputs": [
    {
     "data": {
      "text/plain": [
       "array([0.00212212, 0.00643007, 0.9914478 ], dtype=float32)"
      ]
     },
     "execution_count": 230,
     "metadata": {},
     "output_type": "execute_result"
    }
   ],
   "source": [
    "y_lstm_hat [2]"
   ]
  },
  {
   "cell_type": "code",
   "execution_count": 233,
   "id": "03f84422",
   "metadata": {},
   "outputs": [
    {
     "data": {
      "text/plain": [
       "int"
      ]
     },
     "execution_count": 233,
     "metadata": {},
     "output_type": "execute_result"
    }
   ],
   "source": [
    "type(int(np.where(y_lstm_hat[2] == np.max(y_lstm_hat[2]))[0]))"
   ]
  },
  {
   "cell_type": "code",
   "execution_count": 238,
   "id": "0fe4bca8",
   "metadata": {},
   "outputs": [],
   "source": [
    "y_lstm_hard_hat = []\n",
    "for row in y_lstm_hat:\n",
    "    cl = int(np.where(row == np.max(row))[0]) + 1\n",
    "    y_lstm_hard_hat.append(cl)\n",
    "y_lstm_hard_hat = np.array(y_lstm_hard_hat)"
   ]
  },
  {
   "cell_type": "code",
   "execution_count": 239,
   "id": "4b61d94a",
   "metadata": {},
   "outputs": [
    {
     "name": "stdout",
     "output_type": "stream",
     "text": [
      "Precision : 0.6457388522394646 \n",
      "Accuracy : 0.7261526031409382 \n",
      "Recall: 0.6972698858849062\n"
     ]
    }
   ],
   "source": [
    "lstm_scores = calc_scores(y_lstm_holdout_hard, y_lstm_hard_hat)"
   ]
  },
  {
   "cell_type": "code",
   "execution_count": 224,
   "id": "9117e1ae",
   "metadata": {},
   "outputs": [],
   "source": [
    "y_lstm_holdout_hard = df_holdout['stars'].values"
   ]
  },
  {
   "cell_type": "code",
   "execution_count": 237,
   "id": "5fcc9d5f",
   "metadata": {},
   "outputs": [
    {
     "data": {
      "text/plain": [
       "array([0.86576855, 0.13327396, 0.00095757], dtype=float32)"
      ]
     },
     "execution_count": 237,
     "metadata": {},
     "output_type": "execute_result"
    }
   ],
   "source": [
    "y_lstm_hat[0]"
   ]
  },
  {
   "cell_type": "code",
   "execution_count": 249,
   "id": "8cf3dbf3",
   "metadata": {},
   "outputs": [],
   "source": [
    "scores['LSTM Test'] = lstm_test_scores\n",
    "scores['LSTM Final'] = lstm_scores"
   ]
  },
  {
   "cell_type": "code",
   "execution_count": 254,
   "id": "ffa31fd1",
   "metadata": {},
   "outputs": [],
   "source": [
    "dfi.export(scores, '../img/results.png')"
   ]
  },
  {
   "cell_type": "code",
   "execution_count": 276,
   "id": "729558f0",
   "metadata": {},
   "outputs": [
    {
     "data": {
      "image/png": "[encoded data removed]",
      "text/plain": [
       "<Figure size 432x432 with 2 Axes>"
      ]
     },
     "metadata": {
      "needs_background": "light"
     },
     "output_type": "display_data"
    }
   ],
   "source": [
    "fig, ax = plt.subplots(figsize=(6, 6))\n",
    "conf_matrix = confusion_matrix(y_lstm_holdout_hard, y_lstm_hard_hat)\n",
    "cfm = ConfusionMatrixDisplay(conf_matrix, display_labels=[1,2,3]).plot(ax=ax)\n",
    "plt.savefig('../img/conf-matrix.png')"
   ]
  },
  {
   "cell_type": "code",
   "execution_count": 280,
   "id": "d4433b7b",
   "metadata": {},
   "outputs": [
    {
     "data": {
      "text/html": [
       "<div>\n",
       "<style scoped>\n",
       "    .dataframe tbody tr th:only-of-type {\n",
       "        vertical-align: middle;\n",
       "    }\n",
       "\n",
       "    .dataframe tbody tr th {\n",
       "        vertical-align: top;\n",
       "    }\n",
       "\n",
       "    .dataframe thead th {\n",
       "        text-align: right;\n",
       "    }\n",
       "</style>\n",
       "<table border=\"1\" class=\"dataframe\">\n",
       "  <thead>\n",
       "    <tr style=\"text-align: right;\">\n",
       "      <th></th>\n",
       "      <th>Baseline</th>\n",
       "      <th>Logistic Test</th>\n",
       "      <th>Logistic Final</th>\n",
       "      <th>Random Forest Test</th>\n",
       "      <th>Random Forest Final</th>\n",
       "      <th>Gradient Boosting Test</th>\n",
       "      <th>Gradient Boosting Final</th>\n",
       "      <th>LSTM Test</th>\n",
       "      <th>LSTM Final</th>\n",
       "    </tr>\n",
       "  </thead>\n",
       "  <tbody>\n",
       "    <tr>\n",
       "      <th>Precision</th>\n",
       "      <td>0.334350</td>\n",
       "      <td>0.655753</td>\n",
       "      <td>0.351516</td>\n",
       "      <td>0.601447</td>\n",
       "      <td>0.342183</td>\n",
       "      <td>0.597884</td>\n",
       "      <td>0.348062</td>\n",
       "      <td>0.696291</td>\n",
       "      <td>0.645739</td>\n",
       "    </tr>\n",
       "    <tr>\n",
       "      <th>Accuracy</th>\n",
       "      <td>0.334350</td>\n",
       "      <td>0.658107</td>\n",
       "      <td>0.324673</td>\n",
       "      <td>0.605258</td>\n",
       "      <td>0.310660</td>\n",
       "      <td>0.598482</td>\n",
       "      <td>0.224840</td>\n",
       "      <td>0.698286</td>\n",
       "      <td>0.726153</td>\n",
       "    </tr>\n",
       "    <tr>\n",
       "      <th>Recall</th>\n",
       "      <td>0.334354</td>\n",
       "      <td>0.658552</td>\n",
       "      <td>0.358604</td>\n",
       "      <td>0.605740</td>\n",
       "      <td>0.356422</td>\n",
       "      <td>0.598798</td>\n",
       "      <td>0.341313</td>\n",
       "      <td>0.699478</td>\n",
       "      <td>0.697270</td>\n",
       "    </tr>\n",
       "  </tbody>\n",
       "</table>\n",
       "</div>"
      ],
      "text/plain": [
       "           Baseline  Logistic Test  Logistic Final  Random Forest Test  \\\n",
       "Precision  0.334350       0.655753        0.351516            0.601447   \n",
       "Accuracy   0.334350       0.658107        0.324673            0.605258   \n",
       "Recall     0.334354       0.658552        0.358604            0.605740   \n",
       "\n",
       "           Random Forest Final  Gradient Boosting Test  \\\n",
       "Precision             0.342183                0.597884   \n",
       "Accuracy              0.310660                0.598482   \n",
       "Recall                0.356422                0.598798   \n",
       "\n",
       "           Gradient Boosting Final  LSTM Test  LSTM Final  \n",
       "Precision                 0.348062   0.696291    0.645739  \n",
       "Accuracy                  0.224840   0.698286    0.726153  \n",
       "Recall                    0.341313   0.699478    0.697270  "
      ]
     },
     "execution_count": 280,
     "metadata": {},
     "output_type": "execute_result"
    }
   ],
   "source": [
    "scores"
   ]
  },
  {
   "cell_type": "code",
   "execution_count": null,
   "id": "61254053",
   "metadata": {},
   "outputs": [],
   "source": []
  }
 ],
 "metadata": {
  "kernelspec": {
   "display_name": "Python 3",
   "language": "python",
   "name": "python3"
  },
  "language_info": {
   "codemirror_mode": {
    "name": "ipython",
    "version": 3
   },
   "file_extension": ".py",
   "mimetype": "text/x-python",
   "name": "python",
   "nbconvert_exporter": "python",
   "pygments_lexer": "ipython3",
   "version": "3.8.2"
  }
 },
 "nbformat": 4,
 "nbformat_minor": 5
}
