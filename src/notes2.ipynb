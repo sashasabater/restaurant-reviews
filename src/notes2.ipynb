{
 "cells": [
  {
   "cell_type": "code",
   "execution_count": 1,
   "id": "6c437e3a",
   "metadata": {},
   "outputs": [],
   "source": [
    "\n",
    "import pandas as pd\n",
    "import matplotlib.pyplot as plt\n",
    "import numpy as np\n",
    "from nltk.corpus import stopwords\n",
    "from sklearn.feature_extraction.text import TfidfVectorizer, CountVectorizer\n",
    "from numpy.linalg import svd as SVD\n",
    "from sklearn.decomposition import LatentDirichletAllocation\n",
    "from sklearn.model_selection import train_test_split\n",
    "from sklearn.linear_model import LogisticRegression\n",
    "from nltk.stem.wordnet import WordNetLemmatizer\n",
    "from sklearn.metrics import mean_squared_error as mse\n",
    "from sklearn.metrics import precision_score, accuracy_score, recall_score \n",
    "from sklearn.ensemble import RandomForestClassifier, GradientBoostingClassifier\n",
    "from sklearn.model_selection import GridSearchCV\n",
    "import pickle\n",
    "%matplotlib inline"
   ]
  },
  {
   "cell_type": "code",
   "execution_count": 18,
   "id": "e8e48207",
   "metadata": {},
   "outputs": [],
   "source": [
    "reviews = pd.read_csv('../data/yelp.csv', index_col=0)\n",
    "reviews.drop('business_neighborhoods', axis=1, inplace=True)\n",
    "reviews = reviews[reviews['business_categories'].str.contains('Restaurant') == True]\n",
    "no_rev = reviews[pd.isna(reviews['text']) == True].index \n",
    "reviews.drop(labels=no_rev, axis=0, inplace=True)\n",
    "reviews = reviews.reset_index().drop('index', axis=1)"
   ]
  },
  {
   "cell_type": "code",
   "execution_count": 19,
   "id": "25c86078",
   "metadata": {},
   "outputs": [],
   "source": [
    "#im going to group 1-2 reatings and 4-5 ratings together\n",
    "reviews['stars'] = reviews['stars'].apply(lambda x: 1 if x <= 2 else x)\n",
    "reviews['stars'] = reviews['stars'].apply(lambda x : 2 if x == 3 else x)\n",
    "reviews['stars'] = reviews['stars'].apply(lambda x: 3 if x >=4 else x)\n",
    "\n",
    "#classification labels: 1 if rating <=2, 2 if rating == 3, 3 if rating >= 4"
   ]
  },
  {
   "cell_type": "code",
   "execution_count": 20,
   "id": "95d9dcfa",
   "metadata": {},
   "outputs": [
    {
     "data": {
      "text/plain": [
       "0         3\n",
       "1         3\n",
       "2         3\n",
       "3         3\n",
       "4         3\n",
       "         ..\n",
       "158419    1\n",
       "158420    1\n",
       "158421    1\n",
       "158422    3\n",
       "158423    2\n",
       "Name: stars, Length: 158424, dtype: int64"
      ]
     },
     "execution_count": 20,
     "metadata": {},
     "output_type": "execute_result"
    }
   ],
   "source": [
    "reviews['stars']"
   ]
  },
  {
   "cell_type": "code",
   "execution_count": 44,
   "id": "9510c593",
   "metadata": {},
   "outputs": [],
   "source": [
    "def vectorize(df ,column, method='tfidf'):\n",
    "        #takes in name of column to be cleaned, and method to vectorize\n",
    "        lem = WordNetLemmatizer()\n",
    "        #lemmatizing as opposed to stemming \n",
    "        s_words = stopwords.words('english')\n",
    "        texts = []\n",
    "        for doc in df[column].values:\n",
    "            cleaned = [lem.lemmatize(word).lower() for word in doc.split(' ') \\\n",
    "                       if word not in s_words and word.isalpha() == True]\n",
    "            #making sure that every word onl\n",
    "            texts.append(' '.join(cleaned))\n",
    "  \n",
    "        if method == 'tfidf':\n",
    "            vectorizer = TfidfVectorizer(stop_words='english', max_features=5000)\n",
    "            vectorized = vectorizer.fit_transform(texts).toarray()\n",
    "            return vectorized\n",
    "            #creating a feature names attribute(bag of words)\n",
    "        elif method == 'count':\n",
    "            vectorizer = CountVectorizer(stop_words='english', max_features=5000)\n",
    "            vectorized = vectorizer.fit_transform(self.documents).toarray()\n",
    "            return vectorized\n",
    "def scores(y_true, y_predict):\n",
    "    precision = precision_score(y_true, y_predict,average='macro')\n",
    "    accuracy = accuracy_score(y_true, y_predict)\n",
    "    recall = recall_score(y_true, y_predict, average='macro')\n",
    "    print(f'Precision : {precision} \\n'  \n",
    "          f'Accuracy : {accuracy} \\n'\n",
    "         f'Recall: {recall}')\n",
    "    return [precision, accuracy, recall]"
   ]
  },
  {
   "cell_type": "code",
   "execution_count": 21,
   "id": "742ef647",
   "metadata": {},
   "outputs": [
    {
     "data": {
      "text/plain": [
       "(0.0, 4.0)"
      ]
     },
     "execution_count": 21,
     "metadata": {},
     "output_type": "execute_result"
    },
    {
     "data": {
      "image/png": "[encoded data removed]",
      "text/plain": [
       "<Figure size 432x288 with 1 Axes>"
      ]
     },
     "metadata": {
      "needs_background": "light"
     },
     "output_type": "display_data"
    }
   ],
   "source": [
    "fig, ax = plt.subplots()\n",
    "ax.hist(reviews['stars'], )\n",
    "ax.set_xlim(0,4)"
   ]
  },
  {
   "cell_type": "code",
   "execution_count": 30,
   "id": "1b658a3f",
   "metadata": {},
   "outputs": [],
   "source": [
    "total = len(reviews)"
   ]
  },
  {
   "cell_type": "code",
   "execution_count": 27,
   "id": "efe04c56",
   "metadata": {},
   "outputs": [],
   "source": [
    "class_1 = len(reviews[reviews['stars'] == 1])"
   ]
  },
  {
   "cell_type": "code",
   "execution_count": 28,
   "id": "c67f106d",
   "metadata": {},
   "outputs": [],
   "source": [
    "class_2 = len(reviews[reviews['stars'] == 2])"
   ]
  },
  {
   "cell_type": "code",
   "execution_count": 29,
   "id": "68c84ade",
   "metadata": {},
   "outputs": [],
   "source": [
    "class_3 = len(reviews[reviews['stars'] == 3])"
   ]
  },
  {
   "cell_type": "code",
   "execution_count": 31,
   "id": "23a28016",
   "metadata": {},
   "outputs": [
    {
     "data": {
      "text/plain": [
       "0.16604176134929052"
      ]
     },
     "execution_count": 31,
     "metadata": {},
     "output_type": "execute_result"
    }
   ],
   "source": [
    "class_1 / total"
   ]
  },
  {
   "cell_type": "code",
   "execution_count": 32,
   "id": "bacdb36d",
   "metadata": {},
   "outputs": [
    {
     "data": {
      "text/plain": [
       "0.6681815886481847"
      ]
     },
     "execution_count": 32,
     "metadata": {},
     "output_type": "execute_result"
    }
   ],
   "source": [
    "class_3 / total\n"
   ]
  },
  {
   "cell_type": "code",
   "execution_count": 33,
   "id": "f7a0c869",
   "metadata": {},
   "outputs": [
    {
     "data": {
      "text/plain": [
       "0.16577665000252487"
      ]
     },
     "execution_count": 33,
     "metadata": {},
     "output_type": "execute_result"
    }
   ],
   "source": [
    "class_2 / total"
   ]
  },
  {
   "cell_type": "code",
   "execution_count": 37,
   "id": "efdc1606",
   "metadata": {},
   "outputs": [],
   "source": [
    "pct = class_1 / class_3"
   ]
  },
  {
   "cell_type": "code",
   "execution_count": 39,
   "id": "d71801bb",
   "metadata": {},
   "outputs": [],
   "source": [
    "under_sample = pct * class_3\n"
   ]
  },
  {
   "cell_type": "code",
   "execution_count": 75,
   "id": "cbbc7b32",
   "metadata": {},
   "outputs": [
    {
     "data": {
      "text/plain": [
       "(118818, 39606)"
      ]
     },
     "execution_count": 75,
     "metadata": {},
     "output_type": "execute_result"
    }
   ],
   "source": [
    "len(test_x), len(test_X_train)"
   ]
  },
  {
   "cell_type": "code",
   "execution_count": 76,
   "id": "d6c23b0a",
   "metadata": {},
   "outputs": [],
   "source": [
    "df_train, df_holdout = train_test_split(reviews)"
   ]
  },
  {
   "cell_type": "code",
   "execution_count": 77,
   "id": "9645dd68",
   "metadata": {},
   "outputs": [
    {
     "data": {
      "text/plain": [
       "(118818, 39606)"
      ]
     },
     "execution_count": 77,
     "metadata": {},
     "output_type": "execute_result"
    }
   ],
   "source": [
    "len(df_train), len(df_holdout)"
   ]
  },
  {
   "cell_type": "code",
   "execution_count": 78,
   "id": "77726ac6",
   "metadata": {},
   "outputs": [
    {
     "data": {
      "text/plain": [
       "(19698, 19678, 79442, 118818)"
      ]
     },
     "execution_count": 78,
     "metadata": {},
     "output_type": "execute_result"
    }
   ],
   "source": [
    "train_total = len(df_train)\n",
    "\n",
    "train_class_a = len(df_train[df_train.stars ==1])\n",
    "train_class_b = len(df_train[df_train.stars == 2])\n",
    "train_class_c = len(df_train[df_train.stars == 3])\n",
    "train_class_a, train_class_b, train_class_c, train_total"
   ]
  },
  {
   "cell_type": "code",
   "execution_count": 79,
   "id": "a5f8c3bb",
   "metadata": {},
   "outputs": [],
   "source": [
    "samp_pct = train_class_a / train_class_c\n",
    "samp_num = samp_pct * train_class_c"
   ]
  },
  {
   "cell_type": "code",
   "execution_count": 80,
   "id": "dfe34a65",
   "metadata": {},
   "outputs": [
    {
     "data": {
      "text/plain": [
       "19698.0"
      ]
     },
     "execution_count": 80,
     "metadata": {},
     "output_type": "execute_result"
    }
   ],
   "source": [
    "samp_num"
   ]
  },
  {
   "cell_type": "code",
   "execution_count": 59,
   "id": "de6520e3",
   "metadata": {},
   "outputs": [
    {
     "data": {
      "text/plain": [
       "19717"
      ]
     },
     "execution_count": 59,
     "metadata": {},
     "output_type": "execute_result"
    }
   ],
   "source": [
    "train_class_a"
   ]
  },
  {
   "cell_type": "code",
   "execution_count": 66,
   "id": "67e54ba1",
   "metadata": {},
   "outputs": [],
   "source": [
    "def downsample(df:pd.DataFrame, label_col_name:str) -> pd.DataFrame:\n",
    "    # find the number of observations in the smallest group\n",
    "    nmin = df[label_col_name].value_counts().min()\n",
    "    return (df\n",
    "            # split the dataframe per group\n",
    "            .groupby(label_col_name)\n",
    "            # sample nmin observations from each group\n",
    "            .apply(lambda x: x.sample(nmin))\n",
    "            # recombine the dataframes\n",
    "            .reset_index(drop=True)\n",
    "            )"
   ]
  },
  {
   "cell_type": "code",
   "execution_count": 82,
   "id": "a3465b78",
   "metadata": {},
   "outputs": [],
   "source": [
    "df_train = downsample(df_train, 'stars')"
   ]
  },
  {
   "cell_type": "code",
   "execution_count": 83,
   "id": "78ed275a",
   "metadata": {},
   "outputs": [
    {
     "data": {
      "text/plain": [
       "(19678, 19678, 19678, 59034)"
      ]
     },
     "execution_count": 83,
     "metadata": {},
     "output_type": "execute_result"
    }
   ],
   "source": [
    "#checking to see class balanced\n",
    "train_total = len(df_train)\n",
    "\n",
    "train_class_a = len(df_train[df_train.stars ==1])\n",
    "train_class_b = len(df_train[df_train.stars == 2])\n",
    "train_class_c = len(df_train[df_train.stars == 3])\n",
    "train_class_a, train_class_b, train_class_c, train_total"
   ]
  },
  {
   "cell_type": "code",
   "execution_count": 85,
   "id": "bb34f423",
   "metadata": {},
   "outputs": [],
   "source": [
    "#now i can split into X and y and vectorize \n",
    "X = vectorize(df_train, 'text')\n",
    "y = df_train['stars'].values"
   ]
  },
  {
   "cell_type": "code",
   "execution_count": 86,
   "id": "259944cf",
   "metadata": {},
   "outputs": [],
   "source": [
    "X_holdout = vectorize(downsample(df_holdout, 'stars'), 'text')\n",
    "y_holdout = downsample(df_holdout, 'stars')['stars'].values"
   ]
  },
  {
   "cell_type": "code",
   "execution_count": 93,
   "id": "570dbe05",
   "metadata": {},
   "outputs": [],
   "source": [
    "X_train, X_test, y_train, y_test = train_test_split(X, y)"
   ]
  },
  {
   "cell_type": "code",
   "execution_count": 87,
   "id": "986c745c",
   "metadata": {},
   "outputs": [],
   "source": [
    "baseline_y = []\n",
    "for i in range(len(y)):\n",
    "    baseline_y.append(np.random.choice([1, 2, 3]))\n"
   ]
  },
  {
   "cell_type": "code",
   "execution_count": 88,
   "id": "82e74471",
   "metadata": {},
   "outputs": [
    {
     "name": "stdout",
     "output_type": "stream",
     "text": [
      "Precision : 0.33434969678490356 \n",
      "Accuracy : 0.3343496967849036 \n",
      "Recall: 0.33435393846553163\n"
     ]
    }
   ],
   "source": [
    "baseline_scores = scores(baseline_y, y)"
   ]
  },
  {
   "cell_type": "code",
   "execution_count": 94,
   "id": "51839abc",
   "metadata": {},
   "outputs": [
    {
     "data": {
      "text/plain": [
       "array([[0., 0., 0., ..., 0., 0., 0.],\n",
       "       [0., 0., 0., ..., 0., 0., 0.],\n",
       "       [0., 0., 0., ..., 0., 0., 0.],\n",
       "       ...,\n",
       "       [0., 0., 0., ..., 0., 0., 0.],\n",
       "       [0., 0., 0., ..., 0., 0., 0.],\n",
       "       [0., 0., 0., ..., 0., 0., 0.]])"
      ]
     },
     "execution_count": 94,
     "metadata": {},
     "output_type": "execute_result"
    }
   ],
   "source": [
    "X_test"
   ]
  },
  {
   "cell_type": "code",
   "execution_count": 95,
   "id": "9dd0566d",
   "metadata": {},
   "outputs": [
    {
     "name": "stderr",
     "output_type": "stream",
     "text": [
      "/Users/user/opt/anaconda3/lib/python3.8/site-packages/sklearn/linear_model/_logistic.py:763: ConvergenceWarning: lbfgs failed to converge (status=1):\n",
      "STOP: TOTAL NO. of ITERATIONS REACHED LIMIT.\n",
      "\n",
      "Increase the number of iterations (max_iter) or scale the data as shown in:\n",
      "    https://scikit-learn.org/stable/modules/preprocessing.html\n",
      "Please also refer to the documentation for alternative solver options:\n",
      "    https://scikit-learn.org/stable/modules/linear_model.html#logistic-regression\n",
      "  n_iter_i = _check_optimize_result(\n"
     ]
    },
    {
     "name": "stdout",
     "output_type": "stream",
     "text": [
      "Precision : 0.6557526341989429 \n",
      "Accuracy : 0.6581069178128599 \n",
      "Recall: 0.6585519455143973\n"
     ]
    },
    {
     "data": {
      "text/plain": [
       "[0.6557526341989429, 0.6581069178128599, 0.6585519455143973]"
      ]
     },
     "execution_count": 95,
     "metadata": {},
     "output_type": "execute_result"
    }
   ],
   "source": [
    "log_model = LogisticRegression().fit(X_train, y_train)\n",
    "log_hat = log_model.predict(X_test)\n",
    "scores(y_test, log_hat)"
   ]
  },
  {
   "cell_type": "code",
   "execution_count": 96,
   "id": "b87acf67",
   "metadata": {},
   "outputs": [
    {
     "name": "stdout",
     "output_type": "stream",
     "text": [
      "Precision : 0.3249220082442952 \n",
      "Accuracy : 0.3231080739053404 \n",
      "Recall: 0.3231080739053404\n"
     ]
    }
   ],
   "source": [
    "final_log_hat = log_model.predict(X_holdout)\n",
    "final_log_scores = scores(y_holdout, final_log_hat)\n"
   ]
  },
  {
   "cell_type": "code",
   "execution_count": 97,
   "id": "30cf9146",
   "metadata": {},
   "outputs": [],
   "source": [
    "rm_model = RandomForestClassifier(max_samples=.5).fit(X_train, y_train)"
   ]
  },
  {
   "cell_type": "code",
   "execution_count": 99,
   "id": "72068823",
   "metadata": {},
   "outputs": [
    {
     "name": "stdout",
     "output_type": "stream",
     "text": [
      "Precision : 0.601446622465564 \n",
      "Accuracy : 0.6052578087946338 \n",
      "Recall: 0.6057401528144193\n"
     ]
    },
    {
     "data": {
      "text/plain": [
       "[0.601446622465564, 0.6052578087946338, 0.6057401528144193]"
      ]
     },
     "execution_count": 99,
     "metadata": {},
     "output_type": "execute_result"
    }
   ],
   "source": [
    "rm_hat = rm_model.predict(X_test)\n",
    "scores(y_test, rm_hat)"
   ]
  },
  {
   "cell_type": "code",
   "execution_count": 100,
   "id": "53b121eb",
   "metadata": {},
   "outputs": [
    {
     "name": "stdout",
     "output_type": "stream",
     "text": [
      "Precision : 0.33992441442520765 \n",
      "Accuracy : 0.34325487218425715 \n",
      "Recall: 0.34325487218425715\n"
     ]
    }
   ],
   "source": [
    "final_rm_hat = rm_model.predict(X_holdout)\n",
    "final_rm_scores = scores(y_holdout, final_rm_hat)"
   ]
  },
  {
   "cell_type": "code",
   "execution_count": 101,
   "id": "57eb182d",
   "metadata": {},
   "outputs": [],
   "source": [
    "gb_model = GradientBoostingClassifier().fit(X_train, y_train)"
   ]
  },
  {
   "cell_type": "code",
   "execution_count": 102,
   "id": "b54815fc",
   "metadata": {},
   "outputs": [],
   "source": [
    "pickle.dump(gb_model, open('gb_model.pkl', 'wb'))"
   ]
  },
  {
   "cell_type": "code",
   "execution_count": 103,
   "id": "3a101a97",
   "metadata": {},
   "outputs": [
    {
     "name": "stdout",
     "output_type": "stream",
     "text": [
      "Precision : 0.5978838049919876 \n",
      "Accuracy : 0.5984822819974253 \n",
      "Recall: 0.5987978263997074\n"
     ]
    },
    {
     "data": {
      "text/plain": [
       "[0.5978838049919876, 0.5984822819974253, 0.5987978263997074]"
      ]
     },
     "execution_count": 103,
     "metadata": {},
     "output_type": "execute_result"
    }
   ],
   "source": [
    "gb_hat = gb_model.predict(X_test)\n",
    "scores(y_test, gb_hat)"
   ]
  },
  {
   "cell_type": "code",
   "execution_count": 104,
   "id": "34827070",
   "metadata": {},
   "outputs": [
    {
     "name": "stdout",
     "output_type": "stream",
     "text": [
      "Precision : 0.34852014496502187 \n",
      "Accuracy : 0.3393065046823589 \n",
      "Recall: 0.3393065046823589\n"
     ]
    }
   ],
   "source": [
    "final_gb_hat = gb_model.predict(X_holdout)\n",
    "gb_scores = scores(y_holdout, final_gb_hat)"
   ]
  },
  {
   "cell_type": "code",
   "execution_count": null,
   "id": "c6d81e4f",
   "metadata": {},
   "outputs": [],
   "source": [
    "#model not getting any better - when i should maybe think about lda? \n"
   ]
  }
 ],
 "metadata": {
  "kernelspec": {
   "display_name": "Python 3",
   "language": "python",
   "name": "python3"
  },
  "language_info": {
   "codemirror_mode": {
    "name": "ipython",
    "version": 3
   },
   "file_extension": ".py",
   "mimetype": "text/x-python",
   "name": "python",
   "nbconvert_exporter": "python",
   "pygments_lexer": "ipython3",
   "version": "3.8.2"
  }
 },
 "nbformat": 4,
 "nbformat_minor": 5
}
